{
  "cells": [
    {
      "cell_type": "markdown",
      "metadata": {
        "papermill": {
          "duration": 0.040669,
          "end_time": "2021-03-05T11:14:54.279412",
          "exception": false,
          "start_time": "2021-03-05T11:14:54.238743",
          "status": "completed"
        },
        "tags": [],
        "id": "5LL4IeAYsON2"
      },
      "source": [
        "## Weather forecasting using LSTM"
      ]
    },
    {
      "cell_type": "markdown",
      "metadata": {
        "papermill": {
          "duration": 0.037981,
          "end_time": "2021-03-05T11:14:54.355766",
          "exception": false,
          "start_time": "2021-03-05T11:14:54.317785",
          "status": "completed"
        },
        "tags": [],
        "id": "1X2lF3p-sON8"
      },
      "source": [
        "#### In this project we are going to use weather dataset for time series forecasting and we are predicting future 30 days weather by using LSTM"
      ]
    },
    {
      "cell_type": "markdown",
      "metadata": {
        "papermill": {
          "duration": 0.037159,
          "end_time": "2021-03-05T11:14:54.431297",
          "exception": false,
          "start_time": "2021-03-05T11:14:54.394138",
          "status": "completed"
        },
        "tags": [],
        "id": "7V5fjgUYsON-"
      },
      "source": [
        "Time series analysis is a statistical method to analyse the past data within a given duration of time to forecast the future. It comprises of ordered sequence of data at equally spaced interval.To understand the time series data & the analysis let us consider an example. Consider an example of Airline Passenger data. It has the count of passenger over a period of time.\n",
        "\n"
      ]
    },
    {
      "cell_type": "code",
      "execution_count": null,
      "metadata": {
        "execution": {
          "iopub.execute_input": "2021-03-05T11:14:54.514744Z",
          "iopub.status.busy": "2021-03-05T11:14:54.513683Z",
          "iopub.status.idle": "2021-03-05T11:14:55.456395Z",
          "shell.execute_reply": "2021-03-05T11:14:55.455607Z"
        },
        "papermill": {
          "duration": 0.987559,
          "end_time": "2021-03-05T11:14:55.456647",
          "exception": false,
          "start_time": "2021-03-05T11:14:54.469088",
          "status": "completed"
        },
        "tags": [],
        "id": "6ujvfac6sOOA"
      },
      "outputs": [],
      "source": [
        "import pandas as pd\n",
        "import pandas as pd\n",
        "import numpy as np\n",
        "import seaborn as sns\n",
        "import matplotlib.pyplot as plt\n",
        "%matplotlib inline\n",
        "\n",
        "import warnings\n",
        "warnings.filterwarnings('ignore')\n"
      ]
    },
    {
      "cell_type": "code",
      "execution_count": null,
      "metadata": {
        "execution": {
          "iopub.execute_input": "2021-03-05T11:14:55.540314Z",
          "iopub.status.busy": "2021-03-05T11:14:55.539522Z",
          "iopub.status.idle": "2021-03-05T11:14:55.905447Z",
          "shell.execute_reply": "2021-03-05T11:14:55.905980Z"
        },
        "papermill": {
          "duration": 0.40912,
          "end_time": "2021-03-05T11:14:55.906153",
          "exception": false,
          "start_time": "2021-03-05T11:14:55.497033",
          "status": "completed"
        },
        "tags": [],
        "id": "aBCTgdnXsOOH",
        "outputId": "69c86bd2-8267-4db6-e3b8-0df596350a6b"
      },
      "outputs": [
        {
          "data": {
            "text/html": [
              "<div>\n",
              "<style scoped>\n",
              "    .dataframe tbody tr th:only-of-type {\n",
              "        vertical-align: middle;\n",
              "    }\n",
              "\n",
              "    .dataframe tbody tr th {\n",
              "        vertical-align: top;\n",
              "    }\n",
              "\n",
              "    .dataframe thead th {\n",
              "        text-align: right;\n",
              "    }\n",
              "</style>\n",
              "<table border=\"1\" class=\"dataframe\">\n",
              "  <thead>\n",
              "    <tr style=\"text-align: right;\">\n",
              "      <th></th>\n",
              "      <th>datetime_utc</th>\n",
              "      <th>_conds</th>\n",
              "      <th>_dewptm</th>\n",
              "      <th>_fog</th>\n",
              "      <th>_hail</th>\n",
              "      <th>_heatindexm</th>\n",
              "      <th>_hum</th>\n",
              "      <th>_precipm</th>\n",
              "      <th>_pressurem</th>\n",
              "      <th>_rain</th>\n",
              "      <th>_snow</th>\n",
              "      <th>_tempm</th>\n",
              "      <th>_thunder</th>\n",
              "      <th>_tornado</th>\n",
              "      <th>_vism</th>\n",
              "      <th>_wdird</th>\n",
              "      <th>_wdire</th>\n",
              "      <th>_wgustm</th>\n",
              "      <th>_windchillm</th>\n",
              "      <th>_wspdm</th>\n",
              "    </tr>\n",
              "  </thead>\n",
              "  <tbody>\n",
              "    <tr>\n",
              "      <th>0</th>\n",
              "      <td>19961101-11:00</td>\n",
              "      <td>Smoke</td>\n",
              "      <td>9.0</td>\n",
              "      <td>0</td>\n",
              "      <td>0</td>\n",
              "      <td>NaN</td>\n",
              "      <td>27.0</td>\n",
              "      <td>NaN</td>\n",
              "      <td>1010.0</td>\n",
              "      <td>0</td>\n",
              "      <td>0</td>\n",
              "      <td>30.0</td>\n",
              "      <td>0</td>\n",
              "      <td>0</td>\n",
              "      <td>5.0</td>\n",
              "      <td>280.0</td>\n",
              "      <td>West</td>\n",
              "      <td>NaN</td>\n",
              "      <td>NaN</td>\n",
              "      <td>7.4</td>\n",
              "    </tr>\n",
              "    <tr>\n",
              "      <th>1</th>\n",
              "      <td>19961101-12:00</td>\n",
              "      <td>Smoke</td>\n",
              "      <td>10.0</td>\n",
              "      <td>0</td>\n",
              "      <td>0</td>\n",
              "      <td>NaN</td>\n",
              "      <td>32.0</td>\n",
              "      <td>NaN</td>\n",
              "      <td>-9999.0</td>\n",
              "      <td>0</td>\n",
              "      <td>0</td>\n",
              "      <td>28.0</td>\n",
              "      <td>0</td>\n",
              "      <td>0</td>\n",
              "      <td>NaN</td>\n",
              "      <td>0.0</td>\n",
              "      <td>North</td>\n",
              "      <td>NaN</td>\n",
              "      <td>NaN</td>\n",
              "      <td>NaN</td>\n",
              "    </tr>\n",
              "    <tr>\n",
              "      <th>2</th>\n",
              "      <td>19961101-13:00</td>\n",
              "      <td>Smoke</td>\n",
              "      <td>11.0</td>\n",
              "      <td>0</td>\n",
              "      <td>0</td>\n",
              "      <td>NaN</td>\n",
              "      <td>44.0</td>\n",
              "      <td>NaN</td>\n",
              "      <td>-9999.0</td>\n",
              "      <td>0</td>\n",
              "      <td>0</td>\n",
              "      <td>24.0</td>\n",
              "      <td>0</td>\n",
              "      <td>0</td>\n",
              "      <td>NaN</td>\n",
              "      <td>0.0</td>\n",
              "      <td>North</td>\n",
              "      <td>NaN</td>\n",
              "      <td>NaN</td>\n",
              "      <td>NaN</td>\n",
              "    </tr>\n",
              "    <tr>\n",
              "      <th>3</th>\n",
              "      <td>19961101-14:00</td>\n",
              "      <td>Smoke</td>\n",
              "      <td>10.0</td>\n",
              "      <td>0</td>\n",
              "      <td>0</td>\n",
              "      <td>NaN</td>\n",
              "      <td>41.0</td>\n",
              "      <td>NaN</td>\n",
              "      <td>1010.0</td>\n",
              "      <td>0</td>\n",
              "      <td>0</td>\n",
              "      <td>24.0</td>\n",
              "      <td>0</td>\n",
              "      <td>0</td>\n",
              "      <td>2.0</td>\n",
              "      <td>0.0</td>\n",
              "      <td>North</td>\n",
              "      <td>NaN</td>\n",
              "      <td>NaN</td>\n",
              "      <td>NaN</td>\n",
              "    </tr>\n",
              "    <tr>\n",
              "      <th>4</th>\n",
              "      <td>19961101-16:00</td>\n",
              "      <td>Smoke</td>\n",
              "      <td>11.0</td>\n",
              "      <td>0</td>\n",
              "      <td>0</td>\n",
              "      <td>NaN</td>\n",
              "      <td>47.0</td>\n",
              "      <td>NaN</td>\n",
              "      <td>1011.0</td>\n",
              "      <td>0</td>\n",
              "      <td>0</td>\n",
              "      <td>23.0</td>\n",
              "      <td>0</td>\n",
              "      <td>0</td>\n",
              "      <td>1.2</td>\n",
              "      <td>0.0</td>\n",
              "      <td>North</td>\n",
              "      <td>NaN</td>\n",
              "      <td>NaN</td>\n",
              "      <td>0.0</td>\n",
              "    </tr>\n",
              "  </tbody>\n",
              "</table>\n",
              "</div>"
            ],
            "text/plain": [
              "     datetime_utc  _conds   _dewptm   _fog   _hail   _heatindexm   _hum  \\\n",
              "0  19961101-11:00   Smoke       9.0      0       0           NaN   27.0   \n",
              "1  19961101-12:00   Smoke      10.0      0       0           NaN   32.0   \n",
              "2  19961101-13:00   Smoke      11.0      0       0           NaN   44.0   \n",
              "3  19961101-14:00   Smoke      10.0      0       0           NaN   41.0   \n",
              "4  19961101-16:00   Smoke      11.0      0       0           NaN   47.0   \n",
              "\n",
              "    _precipm   _pressurem   _rain   _snow   _tempm   _thunder   _tornado  \\\n",
              "0        NaN       1010.0       0       0     30.0          0          0   \n",
              "1        NaN      -9999.0       0       0     28.0          0          0   \n",
              "2        NaN      -9999.0       0       0     24.0          0          0   \n",
              "3        NaN       1010.0       0       0     24.0          0          0   \n",
              "4        NaN       1011.0       0       0     23.0          0          0   \n",
              "\n",
              "    _vism   _wdird  _wdire   _wgustm   _windchillm   _wspdm  \n",
              "0     5.0    280.0    West       NaN           NaN      7.4  \n",
              "1     NaN      0.0   North       NaN           NaN      NaN  \n",
              "2     NaN      0.0   North       NaN           NaN      NaN  \n",
              "3     2.0      0.0   North       NaN           NaN      NaN  \n",
              "4     1.2      0.0   North       NaN           NaN      0.0  "
            ]
          },
          "execution_count": 2,
          "metadata": {},
          "output_type": "execute_result"
        }
      ],
      "source": [
        "df= pd.read_csv('../input/delhi-weather-data/testset.csv')\n",
        "df.head()\n"
      ]
    },
    {
      "cell_type": "code",
      "execution_count": null,
      "metadata": {
        "execution": {
          "iopub.execute_input": "2021-03-05T11:14:56.010804Z",
          "iopub.status.busy": "2021-03-05T11:14:56.009103Z",
          "iopub.status.idle": "2021-03-05T11:14:56.039290Z",
          "shell.execute_reply": "2021-03-05T11:14:56.038512Z"
        },
        "papermill": {
          "duration": 0.094255,
          "end_time": "2021-03-05T11:14:56.039444",
          "exception": false,
          "start_time": "2021-03-05T11:14:55.945189",
          "status": "completed"
        },
        "scrolled": false,
        "tags": [],
        "id": "EEc75Cc-sOOJ"
      },
      "outputs": [],
      "source": [
        "data = pd.DataFrame(list(df[' _tempm']), index=df['datetime_utc'], columns=['temp'])"
      ]
    },
    {
      "cell_type": "code",
      "execution_count": null,
      "metadata": {
        "execution": {
          "iopub.execute_input": "2021-03-05T11:14:56.132440Z",
          "iopub.status.busy": "2021-03-05T11:14:56.131387Z",
          "iopub.status.idle": "2021-03-05T11:14:56.136045Z",
          "shell.execute_reply": "2021-03-05T11:14:56.135479Z"
        },
        "papermill": {
          "duration": 0.056596,
          "end_time": "2021-03-05T11:14:56.136191",
          "exception": false,
          "start_time": "2021-03-05T11:14:56.079595",
          "status": "completed"
        },
        "tags": [],
        "id": "3mM1jApCsOOL",
        "outputId": "409a7555-4faa-418d-f235-d05dcf3bcbc8"
      },
      "outputs": [
        {
          "data": {
            "text/html": [
              "<div>\n",
              "<style scoped>\n",
              "    .dataframe tbody tr th:only-of-type {\n",
              "        vertical-align: middle;\n",
              "    }\n",
              "\n",
              "    .dataframe tbody tr th {\n",
              "        vertical-align: top;\n",
              "    }\n",
              "\n",
              "    .dataframe thead th {\n",
              "        text-align: right;\n",
              "    }\n",
              "</style>\n",
              "<table border=\"1\" class=\"dataframe\">\n",
              "  <thead>\n",
              "    <tr style=\"text-align: right;\">\n",
              "      <th></th>\n",
              "      <th>temp</th>\n",
              "    </tr>\n",
              "    <tr>\n",
              "      <th>datetime_utc</th>\n",
              "      <th></th>\n",
              "    </tr>\n",
              "  </thead>\n",
              "  <tbody>\n",
              "    <tr>\n",
              "      <th>19961101-11:00</th>\n",
              "      <td>30.0</td>\n",
              "    </tr>\n",
              "    <tr>\n",
              "      <th>19961101-12:00</th>\n",
              "      <td>28.0</td>\n",
              "    </tr>\n",
              "    <tr>\n",
              "      <th>19961101-13:00</th>\n",
              "      <td>24.0</td>\n",
              "    </tr>\n",
              "    <tr>\n",
              "      <th>19961101-14:00</th>\n",
              "      <td>24.0</td>\n",
              "    </tr>\n",
              "    <tr>\n",
              "      <th>19961101-16:00</th>\n",
              "      <td>23.0</td>\n",
              "    </tr>\n",
              "    <tr>\n",
              "      <th>...</th>\n",
              "      <td>...</td>\n",
              "    </tr>\n",
              "    <tr>\n",
              "      <th>20170424-06:00</th>\n",
              "      <td>34.0</td>\n",
              "    </tr>\n",
              "    <tr>\n",
              "      <th>20170424-09:00</th>\n",
              "      <td>38.0</td>\n",
              "    </tr>\n",
              "    <tr>\n",
              "      <th>20170424-12:00</th>\n",
              "      <td>36.0</td>\n",
              "    </tr>\n",
              "    <tr>\n",
              "      <th>20170424-15:00</th>\n",
              "      <td>32.0</td>\n",
              "    </tr>\n",
              "    <tr>\n",
              "      <th>20170424-18:00</th>\n",
              "      <td>30.0</td>\n",
              "    </tr>\n",
              "  </tbody>\n",
              "</table>\n",
              "<p>100990 rows × 1 columns</p>\n",
              "</div>"
            ],
            "text/plain": [
              "                temp\n",
              "datetime_utc        \n",
              "19961101-11:00  30.0\n",
              "19961101-12:00  28.0\n",
              "19961101-13:00  24.0\n",
              "19961101-14:00  24.0\n",
              "19961101-16:00  23.0\n",
              "...              ...\n",
              "20170424-06:00  34.0\n",
              "20170424-09:00  38.0\n",
              "20170424-12:00  36.0\n",
              "20170424-15:00  32.0\n",
              "20170424-18:00  30.0\n",
              "\n",
              "[100990 rows x 1 columns]"
            ]
          },
          "execution_count": 4,
          "metadata": {},
          "output_type": "execute_result"
        }
      ],
      "source": [
        "data"
      ]
    },
    {
      "cell_type": "markdown",
      "metadata": {
        "papermill": {
          "duration": 0.040226,
          "end_time": "2021-03-05T11:14:56.216638",
          "exception": false,
          "start_time": "2021-03-05T11:14:56.176412",
          "status": "completed"
        },
        "tags": [],
        "id": "pjQCxJVSsOOS"
      },
      "source": [
        "Now we are using only data for 365 days"
      ]
    },
    {
      "cell_type": "code",
      "execution_count": null,
      "metadata": {
        "execution": {
          "iopub.execute_input": "2021-03-05T11:14:56.305365Z",
          "iopub.status.busy": "2021-03-05T11:14:56.304617Z",
          "iopub.status.idle": "2021-03-05T11:14:56.307935Z",
          "shell.execute_reply": "2021-03-05T11:14:56.307391Z"
        },
        "papermill": {
          "duration": 0.051869,
          "end_time": "2021-03-05T11:14:56.308091",
          "exception": false,
          "start_time": "2021-03-05T11:14:56.256222",
          "status": "completed"
        },
        "tags": [],
        "id": "PnRh94hzsOOT"
      },
      "outputs": [],
      "source": [
        "df=data[:365]"
      ]
    },
    {
      "cell_type": "code",
      "execution_count": null,
      "metadata": {
        "execution": {
          "iopub.execute_input": "2021-03-05T11:14:56.394003Z",
          "iopub.status.busy": "2021-03-05T11:14:56.393007Z",
          "iopub.status.idle": "2021-03-05T11:14:56.397446Z",
          "shell.execute_reply": "2021-03-05T11:14:56.396808Z"
        },
        "papermill": {
          "duration": 0.049053,
          "end_time": "2021-03-05T11:14:56.397598",
          "exception": false,
          "start_time": "2021-03-05T11:14:56.348545",
          "status": "completed"
        },
        "scrolled": true,
        "tags": [],
        "id": "xwDsVPmlsOOV",
        "outputId": "87c66141-9980-48c3-99bd-8f1b18109aab"
      },
      "outputs": [
        {
          "data": {
            "text/plain": [
              "(365, 1)"
            ]
          },
          "execution_count": 6,
          "metadata": {},
          "output_type": "execute_result"
        }
      ],
      "source": [
        "df.shape"
      ]
    },
    {
      "cell_type": "code",
      "execution_count": null,
      "metadata": {
        "execution": {
          "iopub.execute_input": "2021-03-05T11:14:56.485988Z",
          "iopub.status.busy": "2021-03-05T11:14:56.485129Z",
          "iopub.status.idle": "2021-03-05T11:14:56.489920Z",
          "shell.execute_reply": "2021-03-05T11:14:56.489339Z"
        },
        "papermill": {
          "duration": 0.052278,
          "end_time": "2021-03-05T11:14:56.490064",
          "exception": false,
          "start_time": "2021-03-05T11:14:56.437786",
          "status": "completed"
        },
        "tags": [],
        "id": "0K1lOAtGsOOW",
        "outputId": "79055b37-ee8a-4212-e506-65834bddf13b"
      },
      "outputs": [
        {
          "data": {
            "text/plain": [
              "temp    3\n",
              "dtype: int64"
            ]
          },
          "execution_count": 7,
          "metadata": {},
          "output_type": "execute_result"
        }
      ],
      "source": [
        "df.isnull().sum()"
      ]
    },
    {
      "cell_type": "code",
      "execution_count": null,
      "metadata": {
        "execution": {
          "iopub.execute_input": "2021-03-05T11:14:56.578185Z",
          "iopub.status.busy": "2021-03-05T11:14:56.577269Z",
          "iopub.status.idle": "2021-03-05T11:14:56.600354Z",
          "shell.execute_reply": "2021-03-05T11:14:56.600842Z"
        },
        "papermill": {
          "duration": 0.06986,
          "end_time": "2021-03-05T11:14:56.601089",
          "exception": false,
          "start_time": "2021-03-05T11:14:56.531229",
          "status": "completed"
        },
        "tags": [],
        "id": "nGXIp_GesOOd"
      },
      "outputs": [],
      "source": [
        "df=df.dropna(axis=0)"
      ]
    },
    {
      "cell_type": "code",
      "execution_count": null,
      "metadata": {
        "execution": {
          "iopub.execute_input": "2021-03-05T11:14:56.689632Z",
          "iopub.status.busy": "2021-03-05T11:14:56.688654Z",
          "iopub.status.idle": "2021-03-05T11:14:56.693613Z",
          "shell.execute_reply": "2021-03-05T11:14:56.694101Z"
        },
        "papermill": {
          "duration": 0.050573,
          "end_time": "2021-03-05T11:14:56.694287",
          "exception": false,
          "start_time": "2021-03-05T11:14:56.643714",
          "status": "completed"
        },
        "tags": [],
        "id": "i3m8X8ZDsOOe",
        "outputId": "c5ff9708-27fc-42ea-afda-723fdce0b70f"
      },
      "outputs": [
        {
          "data": {
            "text/plain": [
              "(362, 1)"
            ]
          },
          "execution_count": 9,
          "metadata": {},
          "output_type": "execute_result"
        }
      ],
      "source": [
        "df.shape"
      ]
    },
    {
      "cell_type": "code",
      "execution_count": null,
      "metadata": {
        "execution": {
          "iopub.execute_input": "2021-03-05T11:14:56.782339Z",
          "iopub.status.busy": "2021-03-05T11:14:56.781267Z",
          "iopub.status.idle": "2021-03-05T11:14:56.786937Z",
          "shell.execute_reply": "2021-03-05T11:14:56.786250Z"
        },
        "papermill": {
          "duration": 0.050401,
          "end_time": "2021-03-05T11:14:56.787137",
          "exception": false,
          "start_time": "2021-03-05T11:14:56.736736",
          "status": "completed"
        },
        "tags": [],
        "id": "2lie6j-LsOOf"
      },
      "outputs": [],
      "source": [
        "df=df['temp'].values"
      ]
    },
    {
      "cell_type": "code",
      "execution_count": null,
      "metadata": {
        "execution": {
          "iopub.execute_input": "2021-03-05T11:14:56.883362Z",
          "iopub.status.busy": "2021-03-05T11:14:56.882572Z",
          "iopub.status.idle": "2021-03-05T11:14:56.886418Z",
          "shell.execute_reply": "2021-03-05T11:14:56.886963Z"
        },
        "papermill": {
          "duration": 0.053956,
          "end_time": "2021-03-05T11:14:56.887143",
          "exception": false,
          "start_time": "2021-03-05T11:14:56.833187",
          "status": "completed"
        },
        "tags": [],
        "id": "B2hFqeNGsOOk",
        "outputId": "1f80cb2e-fafd-4cfd-9257-96927e71034a"
      },
      "outputs": [
        {
          "data": {
            "text/plain": [
              "array([30., 28., 24., 24., 23.])"
            ]
          },
          "execution_count": 11,
          "metadata": {},
          "output_type": "execute_result"
        }
      ],
      "source": [
        "df[:5]"
      ]
    },
    {
      "cell_type": "code",
      "execution_count": null,
      "metadata": {
        "execution": {
          "iopub.execute_input": "2021-03-05T11:14:56.984410Z",
          "iopub.status.busy": "2021-03-05T11:14:56.983270Z",
          "iopub.status.idle": "2021-03-05T11:14:56.993319Z",
          "shell.execute_reply": "2021-03-05T11:14:56.994157Z"
        },
        "papermill": {
          "duration": 0.0639,
          "end_time": "2021-03-05T11:14:56.994482",
          "exception": false,
          "start_time": "2021-03-05T11:14:56.930582",
          "status": "completed"
        },
        "tags": [],
        "id": "lYgiPJEHsOOm"
      },
      "outputs": [],
      "source": [
        "df=df.reshape(-1,1)"
      ]
    },
    {
      "cell_type": "code",
      "execution_count": null,
      "metadata": {
        "execution": {
          "iopub.execute_input": "2021-03-05T11:14:57.123719Z",
          "iopub.status.busy": "2021-03-05T11:14:57.122203Z",
          "iopub.status.idle": "2021-03-05T11:14:57.353224Z",
          "shell.execute_reply": "2021-03-05T11:14:57.352657Z"
        },
        "papermill": {
          "duration": 0.30178,
          "end_time": "2021-03-05T11:14:57.353367",
          "exception": false,
          "start_time": "2021-03-05T11:14:57.051587",
          "status": "completed"
        },
        "tags": [],
        "id": "7IvdLMofsOOu",
        "outputId": "63c1ba3b-5c2e-4697-f14f-f859da8099a7"
      },
      "outputs": [
        {
          "data": {
            "image/png": "[encoded data removed]",
            "text/plain": [
              "<Figure size 1800x504 with 1 Axes>"
            ]
          },
          "metadata": {
            "needs_background": "light"
          },
          "output_type": "display_data"
        }
      ],
      "source": [
        "plt.figure(figsize=(25, 7))\n",
        "plt.plot(df, linewidth=1)\n",
        "# plt.grid()\n",
        "plt.title(\"Time Series (temperature month wise for 1 year)\")\n",
        "plt.show()"
      ]
    },
    {
      "cell_type": "markdown",
      "metadata": {
        "papermill": {
          "duration": 0.043563,
          "end_time": "2021-03-05T11:14:57.441375",
          "exception": false,
          "start_time": "2021-03-05T11:14:57.397812",
          "status": "completed"
        },
        "tags": [],
        "id": "65AmM0l7sOOw"
      },
      "source": [
        "#### Scaling data"
      ]
    },
    {
      "cell_type": "code",
      "execution_count": null,
      "metadata": {
        "execution": {
          "iopub.execute_input": "2021-03-05T11:14:57.535894Z",
          "iopub.status.busy": "2021-03-05T11:14:57.535188Z",
          "iopub.status.idle": "2021-03-05T11:14:57.799478Z",
          "shell.execute_reply": "2021-03-05T11:14:57.800058Z"
        },
        "papermill": {
          "duration": 0.313972,
          "end_time": "2021-03-05T11:14:57.800237",
          "exception": false,
          "start_time": "2021-03-05T11:14:57.486265",
          "status": "completed"
        },
        "tags": [],
        "id": "aq7o2YlysOO1"
      },
      "outputs": [],
      "source": [
        "from sklearn.preprocessing import MinMaxScaler\n",
        "scaler = MinMaxScaler(feature_range=(0, 1))\n",
        "data_scaled = scaler.fit_transform(df)"
      ]
    },
    {
      "cell_type": "code",
      "execution_count": null,
      "metadata": {
        "execution": {
          "iopub.execute_input": "2021-03-05T11:14:57.892090Z",
          "iopub.status.busy": "2021-03-05T11:14:57.891377Z",
          "iopub.status.idle": "2021-03-05T11:14:57.896336Z",
          "shell.execute_reply": "2021-03-05T11:14:57.896954Z"
        },
        "papermill": {
          "duration": 0.052649,
          "end_time": "2021-03-05T11:14:57.897123",
          "exception": false,
          "start_time": "2021-03-05T11:14:57.844474",
          "status": "completed"
        },
        "tags": [],
        "id": "pNNOYmNVsOO1",
        "outputId": "07d90f2c-df30-4a61-8d6d-b98272e30b79"
      },
      "outputs": [
        {
          "data": {
            "text/plain": [
              "array([[0.83333333],\n",
              "       [0.75      ],\n",
              "       [0.58333333],\n",
              "       [0.58333333],\n",
              "       [0.54166667]])"
            ]
          },
          "execution_count": 15,
          "metadata": {},
          "output_type": "execute_result"
        }
      ],
      "source": [
        "data_scaled[:5]"
      ]
    },
    {
      "cell_type": "code",
      "execution_count": null,
      "metadata": {
        "execution": {
          "iopub.execute_input": "2021-03-05T11:14:57.989811Z",
          "iopub.status.busy": "2021-03-05T11:14:57.989192Z",
          "iopub.status.idle": "2021-03-05T11:14:57.995215Z",
          "shell.execute_reply": "2021-03-05T11:14:57.994623Z"
        },
        "papermill": {
          "duration": 0.053716,
          "end_time": "2021-03-05T11:14:57.995384",
          "exception": false,
          "start_time": "2021-03-05T11:14:57.941668",
          "status": "completed"
        },
        "tags": [],
        "id": "4Kw4Bv-5sOO2",
        "outputId": "19e5dca2-1042-4754-c201-c43f92694617"
      },
      "outputs": [
        {
          "data": {
            "text/plain": [
              "(362, 1)"
            ]
          },
          "execution_count": 16,
          "metadata": {},
          "output_type": "execute_result"
        }
      ],
      "source": [
        "data_scaled.shape"
      ]
    },
    {
      "cell_type": "code",
      "execution_count": null,
      "metadata": {
        "papermill": {
          "duration": 0.045756,
          "end_time": "2021-03-05T11:14:58.087263",
          "exception": false,
          "start_time": "2021-03-05T11:14:58.041507",
          "status": "completed"
        },
        "tags": [],
        "id": "er9wp7GPsOO8"
      },
      "outputs": [],
      "source": []
    },
    {
      "cell_type": "code",
      "execution_count": null,
      "metadata": {
        "execution": {
          "iopub.execute_input": "2021-03-05T11:14:58.185280Z",
          "iopub.status.busy": "2021-03-05T11:14:58.184505Z",
          "iopub.status.idle": "2021-03-05T11:14:58.186643Z",
          "shell.execute_reply": "2021-03-05T11:14:58.187207Z"
        },
        "papermill": {
          "duration": 0.055344,
          "end_time": "2021-03-05T11:14:58.187377",
          "exception": false,
          "start_time": "2021-03-05T11:14:58.132033",
          "status": "completed"
        },
        "tags": [],
        "id": "r2RwWhqwsOO8"
      },
      "outputs": [],
      "source": [
        "steps= 20\n",
        "inp = []\n",
        "out = []\n",
        "for i in range(len(data_scaled) - (steps)):\n",
        "    inp.append(data_scaled[i:i+steps])\n",
        "    out.append(data_scaled[i+steps])"
      ]
    },
    {
      "cell_type": "code",
      "execution_count": null,
      "metadata": {
        "papermill": {
          "duration": 0.044853,
          "end_time": "2021-03-05T11:14:58.277989",
          "exception": false,
          "start_time": "2021-03-05T11:14:58.233136",
          "status": "completed"
        },
        "tags": [],
        "id": "bzfdLabCsOO9"
      },
      "outputs": [],
      "source": []
    },
    {
      "cell_type": "code",
      "execution_count": null,
      "metadata": {
        "execution": {
          "iopub.execute_input": "2021-03-05T11:14:58.371933Z",
          "iopub.status.busy": "2021-03-05T11:14:58.371308Z",
          "iopub.status.idle": "2021-03-05T11:14:58.377291Z",
          "shell.execute_reply": "2021-03-05T11:14:58.377821Z"
        },
        "papermill": {
          "duration": 0.054612,
          "end_time": "2021-03-05T11:14:58.378009",
          "exception": false,
          "start_time": "2021-03-05T11:14:58.323397",
          "status": "completed"
        },
        "tags": [],
        "id": "hhj1v7cisOO9",
        "outputId": "21f1dad4-f75f-4ab8-9f9b-024b13001c3c"
      },
      "outputs": [
        {
          "data": {
            "text/plain": [
              "[array([0.875]),\n",
              " array([0.875]),\n",
              " array([0.875]),\n",
              " array([0.83333333]),\n",
              " array([0.70833333]),\n",
              " array([0.625]),\n",
              " array([0.5]),\n",
              " array([0.45833333]),\n",
              " array([0.375]),\n",
              " array([0.41666667])]"
            ]
          },
          "execution_count": 18,
          "metadata": {},
          "output_type": "execute_result"
        }
      ],
      "source": [
        "out[:10]"
      ]
    },
    {
      "cell_type": "markdown",
      "metadata": {
        "papermill": {
          "duration": 0.046093,
          "end_time": "2021-03-05T11:14:58.469653",
          "exception": false,
          "start_time": "2021-03-05T11:14:58.423560",
          "status": "completed"
        },
        "tags": [],
        "id": "dZLxQ64RsOPD"
      },
      "source": [
        "reshape"
      ]
    },
    {
      "cell_type": "code",
      "execution_count": null,
      "metadata": {
        "execution": {
          "iopub.execute_input": "2021-03-05T11:14:58.564653Z",
          "iopub.status.busy": "2021-03-05T11:14:58.563977Z",
          "iopub.status.idle": "2021-03-05T11:14:58.567445Z",
          "shell.execute_reply": "2021-03-05T11:14:58.567999Z"
        },
        "papermill": {
          "duration": 0.052449,
          "end_time": "2021-03-05T11:14:58.568178",
          "exception": false,
          "start_time": "2021-03-05T11:14:58.515729",
          "status": "completed"
        },
        "tags": [],
        "id": "uYOmiOdksOPD"
      },
      "outputs": [],
      "source": [
        "import numpy as np"
      ]
    },
    {
      "cell_type": "code",
      "execution_count": null,
      "metadata": {
        "execution": {
          "iopub.execute_input": "2021-03-05T11:14:58.663813Z",
          "iopub.status.busy": "2021-03-05T11:14:58.663146Z",
          "iopub.status.idle": "2021-03-05T11:14:58.667589Z",
          "shell.execute_reply": "2021-03-05T11:14:58.668124Z"
        },
        "papermill": {
          "duration": 0.054314,
          "end_time": "2021-03-05T11:14:58.668298",
          "exception": false,
          "start_time": "2021-03-05T11:14:58.613984",
          "status": "completed"
        },
        "tags": [],
        "id": "f4kzLXsosOPE"
      },
      "outputs": [],
      "source": [
        "inp= np.asanyarray(inp)\n",
        "out= np.asanyarray(out)"
      ]
    },
    {
      "cell_type": "code",
      "execution_count": null,
      "metadata": {
        "papermill": {
          "duration": 0.045271,
          "end_time": "2021-03-05T11:14:58.759292",
          "exception": false,
          "start_time": "2021-03-05T11:14:58.714021",
          "status": "completed"
        },
        "tags": [],
        "id": "FFyI-m0OsOPE"
      },
      "outputs": [],
      "source": []
    },
    {
      "cell_type": "code",
      "execution_count": null,
      "metadata": {
        "execution": {
          "iopub.execute_input": "2021-03-05T11:14:58.853784Z",
          "iopub.status.busy": "2021-03-05T11:14:58.853189Z",
          "iopub.status.idle": "2021-03-05T11:14:58.857592Z",
          "shell.execute_reply": "2021-03-05T11:14:58.858197Z"
        },
        "papermill": {
          "duration": 0.05334,
          "end_time": "2021-03-05T11:14:58.858365",
          "exception": false,
          "start_time": "2021-03-05T11:14:58.805025",
          "status": "completed"
        },
        "tags": [],
        "id": "TgFnGosgsOPJ",
        "outputId": "938eac18-74f4-4992-ba4c-5e42469bef6b"
      },
      "outputs": [
        {
          "data": {
            "text/plain": [
              "235.3"
            ]
          },
          "execution_count": 21,
          "metadata": {},
          "output_type": "execute_result"
        }
      ],
      "source": [
        "len(df)*0.65"
      ]
    },
    {
      "cell_type": "code",
      "execution_count": null,
      "metadata": {
        "execution": {
          "iopub.execute_input": "2021-03-05T11:14:58.953960Z",
          "iopub.status.busy": "2021-03-05T11:14:58.953278Z",
          "iopub.status.idle": "2021-03-05T11:14:58.957556Z",
          "shell.execute_reply": "2021-03-05T11:14:58.958113Z"
        },
        "papermill": {
          "duration": 0.053707,
          "end_time": "2021-03-05T11:14:58.958292",
          "exception": false,
          "start_time": "2021-03-05T11:14:58.904585",
          "status": "completed"
        },
        "tags": [],
        "id": "BYEz6YqZsOPL"
      },
      "outputs": [],
      "source": [
        "x_train = inp[:237,:,:]\n",
        "x_test = inp[237:,:,:]\n",
        "y_train = out[:237]\n",
        "y_test= out[237:]"
      ]
    },
    {
      "cell_type": "code",
      "execution_count": null,
      "metadata": {
        "execution": {
          "iopub.execute_input": "2021-03-05T11:14:59.055643Z",
          "iopub.status.busy": "2021-03-05T11:14:59.055038Z",
          "iopub.status.idle": "2021-03-05T11:14:59.059716Z",
          "shell.execute_reply": "2021-03-05T11:14:59.060284Z"
        },
        "papermill": {
          "duration": 0.054388,
          "end_time": "2021-03-05T11:14:59.060459",
          "exception": false,
          "start_time": "2021-03-05T11:14:59.006071",
          "status": "completed"
        },
        "tags": [],
        "id": "e8hbijsKsOPL",
        "outputId": "65805808-7cfd-4159-8a9c-d4039fba4d4a"
      },
      "outputs": [
        {
          "data": {
            "text/plain": [
              "(342, 20, 1)"
            ]
          },
          "execution_count": 23,
          "metadata": {},
          "output_type": "execute_result"
        }
      ],
      "source": [
        "inp.shape"
      ]
    },
    {
      "cell_type": "code",
      "execution_count": null,
      "metadata": {
        "execution": {
          "iopub.execute_input": "2021-03-05T11:14:59.158122Z",
          "iopub.status.busy": "2021-03-05T11:14:59.157436Z",
          "iopub.status.idle": "2021-03-05T11:14:59.162099Z",
          "shell.execute_reply": "2021-03-05T11:14:59.162608Z"
        },
        "papermill": {
          "duration": 0.05527,
          "end_time": "2021-03-05T11:14:59.162783",
          "exception": false,
          "start_time": "2021-03-05T11:14:59.107513",
          "status": "completed"
        },
        "tags": [],
        "id": "dihCc7AwsOPL",
        "outputId": "ba513dd4-0ba4-490a-daa0-5b794b983fc3"
      },
      "outputs": [
        {
          "data": {
            "text/plain": [
              "(237, 20, 1)"
            ]
          },
          "execution_count": 24,
          "metadata": {},
          "output_type": "execute_result"
        }
      ],
      "source": [
        "x_train.shape"
      ]
    },
    {
      "cell_type": "code",
      "execution_count": null,
      "metadata": {
        "execution": {
          "iopub.execute_input": "2021-03-05T11:14:59.262976Z",
          "iopub.status.busy": "2021-03-05T11:14:59.262039Z",
          "iopub.status.idle": "2021-03-05T11:14:59.267203Z",
          "shell.execute_reply": "2021-03-05T11:14:59.267695Z"
        },
        "papermill": {
          "duration": 0.056435,
          "end_time": "2021-03-05T11:14:59.267897",
          "exception": false,
          "start_time": "2021-03-05T11:14:59.211462",
          "status": "completed"
        },
        "tags": [],
        "id": "W0GdGmbusOPR",
        "outputId": "fbeabe17-4d4f-4cbe-f2bf-90e6842232ba"
      },
      "outputs": [
        {
          "data": {
            "text/plain": [
              "(105, 20, 1)"
            ]
          },
          "execution_count": 25,
          "metadata": {},
          "output_type": "execute_result"
        }
      ],
      "source": [
        "x_test.shape"
      ]
    },
    {
      "cell_type": "code",
      "execution_count": null,
      "metadata": {
        "papermill": {
          "duration": 0.051811,
          "end_time": "2021-03-05T11:14:59.368485",
          "exception": false,
          "start_time": "2021-03-05T11:14:59.316674",
          "status": "completed"
        },
        "tags": [],
        "id": "Gn28eyoksOPS"
      },
      "outputs": [],
      "source": []
    },
    {
      "cell_type": "code",
      "execution_count": null,
      "metadata": {
        "execution": {
          "iopub.execute_input": "2021-03-05T11:14:59.470347Z",
          "iopub.status.busy": "2021-03-05T11:14:59.469677Z",
          "iopub.status.idle": "2021-03-05T11:15:05.555089Z",
          "shell.execute_reply": "2021-03-05T11:15:05.554311Z"
        },
        "papermill": {
          "duration": 6.139083,
          "end_time": "2021-03-05T11:15:05.555588",
          "exception": false,
          "start_time": "2021-03-05T11:14:59.416505",
          "status": "completed"
        },
        "tags": [],
        "id": "cRcnd9l3sOPS"
      },
      "outputs": [],
      "source": [
        "import matplotlib.pyplot as plt\n",
        "import seaborn as sns\n",
        "from tensorflow.keras.layers import Dense,RepeatVector, LSTM, Dropout\n",
        "from tensorflow.keras.layers import Flatten, Conv1D, MaxPooling1D\n",
        "from tensorflow.keras.layers import Bidirectional, Dropout\n",
        "from tensorflow.keras.models import Sequential\n",
        "from tensorflow.keras.utils import plot_model"
      ]
    },
    {
      "cell_type": "markdown",
      "metadata": {
        "papermill": {
          "duration": 0.04888,
          "end_time": "2021-03-05T11:15:05.655468",
          "exception": false,
          "start_time": "2021-03-05T11:15:05.606588",
          "status": "completed"
        },
        "tags": [],
        "id": "dcMZF6NssOPY"
      },
      "source": [
        "### Model Building"
      ]
    },
    {
      "cell_type": "code",
      "execution_count": null,
      "metadata": {
        "execution": {
          "iopub.execute_input": "2021-03-05T11:15:05.767569Z",
          "iopub.status.busy": "2021-03-05T11:15:05.766650Z",
          "iopub.status.idle": "2021-03-05T11:15:07.471795Z",
          "shell.execute_reply": "2021-03-05T11:15:07.472348Z"
        },
        "papermill": {
          "duration": 1.76587,
          "end_time": "2021-03-05T11:15:07.472584",
          "exception": false,
          "start_time": "2021-03-05T11:15:05.706714",
          "status": "completed"
        },
        "tags": [],
        "id": "mXKf5AJhsOPZ"
      },
      "outputs": [],
      "source": [
        "model = Sequential()\n",
        "model.add(LSTM(50, return_sequences= True, input_shape= (20,1)))\n",
        "model.add(LSTM(50, return_sequences=True))\n",
        "model.add(LSTM(50))\n",
        "model.add(Dense(1))\n",
        "model.compile(loss = 'mean_squared_error', optimizer = 'adam')\n",
        "model = Sequential()\n",
        "model.add(LSTM(50, return_sequences= True, input_shape= (20,1)))\n",
        "model.add(LSTM(50, return_sequences=True))\n",
        "model.add(LSTM(50))\n",
        "model.add(Dense(1))\n",
        "model.compile(loss = 'mean_squared_error', optimizer = 'adam')\n",
        "\n",
        "\n",
        "\n",
        "\n",
        "\n"
      ]
    },
    {
      "cell_type": "code",
      "execution_count": null,
      "metadata": {
        "execution": {
          "iopub.execute_input": "2021-03-05T11:15:07.575560Z",
          "iopub.status.busy": "2021-03-05T11:15:07.574530Z",
          "iopub.status.idle": "2021-03-05T11:16:25.418976Z",
          "shell.execute_reply": "2021-03-05T11:16:25.418344Z"
        },
        "papermill": {
          "duration": 77.896396,
          "end_time": "2021-03-05T11:16:25.419139",
          "exception": false,
          "start_time": "2021-03-05T11:15:07.522743",
          "status": "completed"
        },
        "scrolled": true,
        "tags": [],
        "id": "i7mWk084sOPa",
        "outputId": "c7f608f9-e588-4038-ed9d-90f8718e5d55"
      },
      "outputs": [
        {
          "name": "stdout",
          "output_type": "stream",
          "text": [
            "Epoch 1/300\n",
            "8/8 [==============================] - 5s 31ms/step - loss: 0.2052\n",
            "Epoch 2/300\n",
            "8/8 [==============================] - 0s 29ms/step - loss: 0.0767\n",
            "Epoch 3/300\n",
            "8/8 [==============================] - 0s 29ms/step - loss: 0.0594\n",
            "Epoch 4/300\n",
            "8/8 [==============================] - 0s 29ms/step - loss: 0.0536\n",
            "Epoch 5/300\n",
            "8/8 [==============================] - 0s 28ms/step - loss: 0.0514\n",
            "Epoch 6/300\n",
            "8/8 [==============================] - 0s 28ms/step - loss: 0.0495\n",
            "Epoch 7/300\n",
            "8/8 [==============================] - 0s 29ms/step - loss: 0.0498\n",
            "Epoch 8/300\n",
            "8/8 [==============================] - 0s 30ms/step - loss: 0.0448\n",
            "Epoch 9/300\n",
            "8/8 [==============================] - 0s 29ms/step - loss: 0.0421\n",
            "Epoch 10/300\n",
            "8/8 [==============================] - 0s 26ms/step - loss: 0.0406\n",
            "Epoch 11/300\n",
            "8/8 [==============================] - 0s 29ms/step - loss: 0.0402\n",
            "Epoch 12/300\n",
            "8/8 [==============================] - 0s 30ms/step - loss: 0.0397\n",
            "Epoch 13/300\n",
            "8/8 [==============================] - 0s 29ms/step - loss: 0.0310\n",
            "Epoch 14/300\n",
            "8/8 [==============================] - 0s 29ms/step - loss: 0.0237\n",
            "Epoch 15/300\n",
            "8/8 [==============================] - 0s 30ms/step - loss: 0.0228\n",
            "Epoch 16/300\n",
            "8/8 [==============================] - 0s 29ms/step - loss: 0.0221\n",
            "Epoch 17/300\n",
            "8/8 [==============================] - 0s 29ms/step - loss: 0.0162\n",
            "Epoch 18/300\n",
            "8/8 [==============================] - 0s 28ms/step - loss: 0.0175\n",
            "Epoch 19/300\n",
            "8/8 [==============================] - 0s 29ms/step - loss: 0.0152\n",
            "Epoch 20/300\n",
            "8/8 [==============================] - 0s 29ms/step - loss: 0.0125\n",
            "Epoch 21/300\n",
            "8/8 [==============================] - 0s 33ms/step - loss: 0.0143\n",
            "Epoch 22/300\n",
            "8/8 [==============================] - 0s 29ms/step - loss: 0.0165\n",
            "Epoch 23/300\n",
            "8/8 [==============================] - 0s 32ms/step - loss: 0.0142\n",
            "Epoch 24/300\n",
            "8/8 [==============================] - 0s 30ms/step - loss: 0.0114\n",
            "Epoch 25/300\n",
            "8/8 [==============================] - 0s 29ms/step - loss: 0.0102\n",
            "Epoch 26/300\n",
            "8/8 [==============================] - 0s 29ms/step - loss: 0.0090\n",
            "Epoch 27/300\n",
            "8/8 [==============================] - 0s 28ms/step - loss: 0.0098\n",
            "Epoch 28/300\n",
            "8/8 [==============================] - 0s 29ms/step - loss: 0.0094\n",
            "Epoch 29/300\n",
            "8/8 [==============================] - 0s 34ms/step - loss: 0.0092\n",
            "Epoch 30/300\n",
            "8/8 [==============================] - 0s 28ms/step - loss: 0.0091\n",
            "Epoch 31/300\n",
            "8/8 [==============================] - 0s 30ms/step - loss: 0.0094\n",
            "Epoch 32/300\n",
            "8/8 [==============================] - 0s 29ms/step - loss: 0.0081\n",
            "Epoch 33/300\n",
            "8/8 [==============================] - 0s 28ms/step - loss: 0.0095\n",
            "Epoch 34/300\n",
            "8/8 [==============================] - 0s 28ms/step - loss: 0.0072\n",
            "Epoch 35/300\n",
            "8/8 [==============================] - 0s 28ms/step - loss: 0.0082\n",
            "Epoch 36/300\n",
            "8/8 [==============================] - 0s 29ms/step - loss: 0.0079\n",
            "Epoch 37/300\n",
            "8/8 [==============================] - 0s 28ms/step - loss: 0.0083\n",
            "Epoch 38/300\n",
            "8/8 [==============================] - 0s 30ms/step - loss: 0.0084\n",
            "Epoch 39/300\n",
            "8/8 [==============================] - 0s 32ms/step - loss: 0.0109\n",
            "Epoch 40/300\n",
            "8/8 [==============================] - 0s 28ms/step - loss: 0.0083\n",
            "Epoch 41/300\n",
            "8/8 [==============================] - 0s 28ms/step - loss: 0.0076\n",
            "Epoch 42/300\n",
            "8/8 [==============================] - 0s 29ms/step - loss: 0.0091\n",
            "Epoch 43/300\n",
            "8/8 [==============================] - 0s 27ms/step - loss: 0.0074\n",
            "Epoch 44/300\n",
            "8/8 [==============================] - 0s 29ms/step - loss: 0.0090\n",
            "Epoch 45/300\n",
            "8/8 [==============================] - 0s 28ms/step - loss: 0.0075\n",
            "Epoch 46/300\n",
            "8/8 [==============================] - 0s 30ms/step - loss: 0.0070\n",
            "Epoch 47/300\n",
            "8/8 [==============================] - 0s 30ms/step - loss: 0.0084\n",
            "Epoch 48/300\n",
            "8/8 [==============================] - 0s 33ms/step - loss: 0.0067\n",
            "Epoch 49/300\n",
            "8/8 [==============================] - 0s 37ms/step - loss: 0.0099\n",
            "Epoch 50/300\n",
            "8/8 [==============================] - 0s 36ms/step - loss: 0.0071\n",
            "Epoch 51/300\n",
            "8/8 [==============================] - 0s 35ms/step - loss: 0.0079\n",
            "Epoch 52/300\n",
            "8/8 [==============================] - 0s 33ms/step - loss: 0.0080\n",
            "Epoch 53/300\n",
            "8/8 [==============================] - 0s 36ms/step - loss: 0.0066\n",
            "Epoch 54/300\n",
            "8/8 [==============================] - 0s 36ms/step - loss: 0.0071\n",
            "Epoch 55/300\n",
            "8/8 [==============================] - 0s 29ms/step - loss: 0.0061\n",
            "Epoch 56/300\n",
            "8/8 [==============================] - 0s 29ms/step - loss: 0.0065\n",
            "Epoch 57/300\n",
            "8/8 [==============================] - 0s 30ms/step - loss: 0.0067\n",
            "Epoch 58/300\n",
            "8/8 [==============================] - 0s 31ms/step - loss: 0.0079\n",
            "Epoch 59/300\n",
            "8/8 [==============================] - 0s 35ms/step - loss: 0.0067\n",
            "Epoch 60/300\n",
            "8/8 [==============================] - 0s 28ms/step - loss: 0.0074\n",
            "Epoch 61/300\n",
            "8/8 [==============================] - 0s 30ms/step - loss: 0.0066\n",
            "Epoch 62/300\n",
            "8/8 [==============================] - 0s 30ms/step - loss: 0.0060\n",
            "Epoch 63/300\n",
            "8/8 [==============================] - 0s 27ms/step - loss: 0.0055\n",
            "Epoch 64/300\n",
            "8/8 [==============================] - 0s 28ms/step - loss: 0.0061\n",
            "Epoch 65/300\n",
            "8/8 [==============================] - 0s 28ms/step - loss: 0.0062\n",
            "Epoch 66/300\n",
            "8/8 [==============================] - 0s 29ms/step - loss: 0.0067\n",
            "Epoch 67/300\n",
            "8/8 [==============================] - 0s 29ms/step - loss: 0.0056\n",
            "Epoch 68/300\n",
            "8/8 [==============================] - 0s 29ms/step - loss: 0.0068\n",
            "Epoch 69/300\n",
            "8/8 [==============================] - 0s 29ms/step - loss: 0.0050\n",
            "Epoch 70/300\n",
            "8/8 [==============================] - 0s 29ms/step - loss: 0.0066\n",
            "Epoch 71/300\n",
            "8/8 [==============================] - 0s 30ms/step - loss: 0.0045\n",
            "Epoch 72/300\n",
            "8/8 [==============================] - 0s 30ms/step - loss: 0.0057\n",
            "Epoch 73/300\n",
            "8/8 [==============================] - 0s 39ms/step - loss: 0.0056\n",
            "Epoch 74/300\n",
            "8/8 [==============================] - 0s 30ms/step - loss: 0.0067\n",
            "Epoch 75/300\n",
            "8/8 [==============================] - 0s 30ms/step - loss: 0.0070\n",
            "Epoch 76/300\n",
            "8/8 [==============================] - 0s 29ms/step - loss: 0.0069\n",
            "Epoch 77/300\n",
            "8/8 [==============================] - 0s 30ms/step - loss: 0.0079\n",
            "Epoch 78/300\n",
            "8/8 [==============================] - 0s 28ms/step - loss: 0.0061\n",
            "Epoch 79/300\n",
            "8/8 [==============================] - 0s 28ms/step - loss: 0.0075\n",
            "Epoch 80/300\n",
            "8/8 [==============================] - 0s 28ms/step - loss: 0.0059\n",
            "Epoch 81/300\n",
            "8/8 [==============================] - 0s 29ms/step - loss: 0.0055\n",
            "Epoch 82/300\n",
            "8/8 [==============================] - 0s 29ms/step - loss: 0.0067\n",
            "Epoch 83/300\n",
            "8/8 [==============================] - 0s 28ms/step - loss: 0.0066\n",
            "Epoch 84/300\n",
            "8/8 [==============================] - 0s 28ms/step - loss: 0.0060\n",
            "Epoch 85/300\n",
            "8/8 [==============================] - 0s 28ms/step - loss: 0.0053\n",
            "Epoch 86/300\n",
            "8/8 [==============================] - 0s 29ms/step - loss: 0.0051\n",
            "Epoch 87/300\n",
            "8/8 [==============================] - 0s 29ms/step - loss: 0.0048\n",
            "Epoch 88/300\n",
            "8/8 [==============================] - 0s 29ms/step - loss: 0.0049\n",
            "Epoch 89/300\n",
            "8/8 [==============================] - 0s 27ms/step - loss: 0.0048\n",
            "Epoch 90/300\n",
            "8/8 [==============================] - 0s 30ms/step - loss: 0.0048\n",
            "Epoch 91/300\n",
            "8/8 [==============================] - 0s 30ms/step - loss: 0.0045\n",
            "Epoch 92/300\n",
            "8/8 [==============================] - 0s 28ms/step - loss: 0.0060\n",
            "Epoch 93/300\n",
            "8/8 [==============================] - 0s 30ms/step - loss: 0.0049\n",
            "Epoch 94/300\n",
            "8/8 [==============================] - 0s 29ms/step - loss: 0.0047\n",
            "Epoch 95/300\n",
            "8/8 [==============================] - 0s 29ms/step - loss: 0.0041\n",
            "Epoch 96/300\n",
            "8/8 [==============================] - 0s 33ms/step - loss: 0.0040\n",
            "Epoch 97/300\n",
            "8/8 [==============================] - 0s 34ms/step - loss: 0.0049\n",
            "Epoch 98/300\n",
            "8/8 [==============================] - 0s 32ms/step - loss: 0.0041\n",
            "Epoch 99/300\n",
            "8/8 [==============================] - 0s 37ms/step - loss: 0.0042\n",
            "Epoch 100/300\n",
            "8/8 [==============================] - 0s 34ms/step - loss: 0.0038\n",
            "Epoch 101/300\n",
            "8/8 [==============================] - 0s 34ms/step - loss: 0.0040\n",
            "Epoch 102/300\n",
            "8/8 [==============================] - 0s 39ms/step - loss: 0.0040\n",
            "Epoch 103/300\n",
            "8/8 [==============================] - 0s 31ms/step - loss: 0.0046\n",
            "Epoch 104/300\n",
            "8/8 [==============================] - 0s 36ms/step - loss: 0.0041\n",
            "Epoch 105/300\n",
            "8/8 [==============================] - 0s 38ms/step - loss: 0.0043\n",
            "Epoch 106/300\n",
            "8/8 [==============================] - 0s 30ms/step - loss: 0.0048\n",
            "Epoch 107/300\n",
            "8/8 [==============================] - 0s 31ms/step - loss: 0.0036\n",
            "Epoch 108/300\n",
            "8/8 [==============================] - 0s 32ms/step - loss: 0.0040\n",
            "Epoch 109/300\n",
            "8/8 [==============================] - 0s 35ms/step - loss: 0.0040\n",
            "Epoch 110/300\n",
            "8/8 [==============================] - 0s 29ms/step - loss: 0.0038\n",
            "Epoch 111/300\n",
            "8/8 [==============================] - 0s 28ms/step - loss: 0.0029\n",
            "Epoch 112/300\n",
            "8/8 [==============================] - 0s 31ms/step - loss: 0.0037\n",
            "Epoch 113/300\n",
            "8/8 [==============================] - 0s 31ms/step - loss: 0.0035\n",
            "Epoch 114/300\n",
            "8/8 [==============================] - 0s 30ms/step - loss: 0.0029\n",
            "Epoch 115/300\n",
            "8/8 [==============================] - 0s 33ms/step - loss: 0.0030\n",
            "Epoch 116/300\n",
            "8/8 [==============================] - 0s 33ms/step - loss: 0.0037\n",
            "Epoch 117/300\n",
            "8/8 [==============================] - 0s 37ms/step - loss: 0.0040\n",
            "Epoch 118/300\n",
            "8/8 [==============================] - 0s 33ms/step - loss: 0.0032\n",
            "Epoch 119/300\n",
            "8/8 [==============================] - 0s 36ms/step - loss: 0.0035\n",
            "Epoch 120/300\n",
            "8/8 [==============================] - 0s 29ms/step - loss: 0.0032\n",
            "Epoch 121/300\n",
            "8/8 [==============================] - 0s 32ms/step - loss: 0.0035\n",
            "Epoch 122/300\n",
            "8/8 [==============================] - 0s 33ms/step - loss: 0.0036\n",
            "Epoch 123/300\n",
            "8/8 [==============================] - 0s 34ms/step - loss: 0.0037\n",
            "Epoch 124/300\n",
            "8/8 [==============================] - 0s 30ms/step - loss: 0.0040\n",
            "Epoch 125/300\n",
            "8/8 [==============================] - 0s 31ms/step - loss: 0.0034\n",
            "Epoch 126/300\n",
            "8/8 [==============================] - 0s 33ms/step - loss: 0.0046\n",
            "Epoch 127/300\n",
            "8/8 [==============================] - 0s 31ms/step - loss: 0.0045\n",
            "Epoch 128/300\n",
            "8/8 [==============================] - 0s 34ms/step - loss: 0.0041\n",
            "Epoch 129/300\n",
            "8/8 [==============================] - 0s 31ms/step - loss: 0.0034\n",
            "Epoch 130/300\n",
            "8/8 [==============================] - 0s 34ms/step - loss: 0.0029\n",
            "Epoch 131/300\n",
            "8/8 [==============================] - 0s 33ms/step - loss: 0.0043\n",
            "Epoch 132/300\n",
            "8/8 [==============================] - 0s 31ms/step - loss: 0.0038\n",
            "Epoch 133/300\n",
            "8/8 [==============================] - 0s 30ms/step - loss: 0.0040\n",
            "Epoch 134/300\n",
            "8/8 [==============================] - 0s 28ms/step - loss: 0.0035\n",
            "Epoch 135/300\n",
            "8/8 [==============================] - 0s 37ms/step - loss: 0.0036\n",
            "Epoch 136/300\n",
            "8/8 [==============================] - 0s 29ms/step - loss: 0.0040\n",
            "Epoch 137/300\n",
            "8/8 [==============================] - 0s 29ms/step - loss: 0.0038\n",
            "Epoch 138/300\n",
            "8/8 [==============================] - 0s 29ms/step - loss: 0.0035\n",
            "Epoch 139/300\n",
            "8/8 [==============================] - 0s 30ms/step - loss: 0.0043\n",
            "Epoch 140/300\n",
            "8/8 [==============================] - 0s 30ms/step - loss: 0.0038\n",
            "Epoch 141/300\n",
            "8/8 [==============================] - 0s 30ms/step - loss: 0.0032\n",
            "Epoch 142/300\n",
            "8/8 [==============================] - 0s 29ms/step - loss: 0.0033\n",
            "Epoch 143/300\n",
            "8/8 [==============================] - 0s 32ms/step - loss: 0.0026\n",
            "Epoch 144/300\n",
            "8/8 [==============================] - 0s 32ms/step - loss: 0.0031\n",
            "Epoch 145/300\n",
            "8/8 [==============================] - 0s 32ms/step - loss: 0.0030\n",
            "Epoch 146/300\n",
            "8/8 [==============================] - 0s 30ms/step - loss: 0.0032\n",
            "Epoch 147/300\n",
            "8/8 [==============================] - 0s 31ms/step - loss: 0.0037\n",
            "Epoch 148/300\n",
            "8/8 [==============================] - 0s 38ms/step - loss: 0.0032\n",
            "Epoch 149/300\n",
            "8/8 [==============================] - 0s 31ms/step - loss: 0.0026\n",
            "Epoch 150/300\n",
            "8/8 [==============================] - 0s 31ms/step - loss: 0.0029\n",
            "Epoch 151/300\n",
            "8/8 [==============================] - 0s 30ms/step - loss: 0.0032\n",
            "Epoch 152/300\n",
            "8/8 [==============================] - 0s 30ms/step - loss: 0.0029\n",
            "Epoch 153/300\n",
            "8/8 [==============================] - 0s 30ms/step - loss: 0.0027\n",
            "Epoch 154/300\n",
            "8/8 [==============================] - 0s 29ms/step - loss: 0.0032\n",
            "Epoch 155/300\n",
            "8/8 [==============================] - 0s 28ms/step - loss: 0.0029\n",
            "Epoch 156/300\n",
            "8/8 [==============================] - 0s 30ms/step - loss: 0.0032\n",
            "Epoch 157/300\n",
            "8/8 [==============================] - 0s 28ms/step - loss: 0.0027\n",
            "Epoch 158/300\n",
            "8/8 [==============================] - 0s 29ms/step - loss: 0.0034\n",
            "Epoch 159/300\n",
            "8/8 [==============================] - 0s 30ms/step - loss: 0.0024\n",
            "Epoch 160/300\n",
            "8/8 [==============================] - 0s 33ms/step - loss: 0.0035\n",
            "Epoch 161/300\n",
            "8/8 [==============================] - 0s 31ms/step - loss: 0.0033\n",
            "Epoch 162/300\n",
            "8/8 [==============================] - 0s 30ms/step - loss: 0.0034\n",
            "Epoch 163/300\n",
            "8/8 [==============================] - 0s 29ms/step - loss: 0.0032\n",
            "Epoch 164/300\n",
            "8/8 [==============================] - 0s 29ms/step - loss: 0.0032\n",
            "Epoch 165/300\n",
            "8/8 [==============================] - 0s 29ms/step - loss: 0.0029\n",
            "Epoch 166/300\n",
            "8/8 [==============================] - 0s 28ms/step - loss: 0.0028\n",
            "Epoch 167/300\n",
            "8/8 [==============================] - 0s 29ms/step - loss: 0.0029\n",
            "Epoch 168/300\n",
            "8/8 [==============================] - 0s 30ms/step - loss: 0.0028\n",
            "Epoch 169/300\n",
            "8/8 [==============================] - 0s 28ms/step - loss: 0.0033\n",
            "Epoch 170/300\n",
            "8/8 [==============================] - 0s 29ms/step - loss: 0.0035\n",
            "Epoch 171/300\n",
            "8/8 [==============================] - 0s 29ms/step - loss: 0.0029\n",
            "Epoch 172/300\n",
            "8/8 [==============================] - 0s 29ms/step - loss: 0.0027\n",
            "Epoch 173/300\n",
            "8/8 [==============================] - 0s 30ms/step - loss: 0.0029\n",
            "Epoch 174/300\n",
            "8/8 [==============================] - 0s 30ms/step - loss: 0.0031\n",
            "Epoch 175/300\n",
            "8/8 [==============================] - 0s 29ms/step - loss: 0.0037\n",
            "Epoch 176/300\n",
            "8/8 [==============================] - 0s 29ms/step - loss: 0.0032\n",
            "Epoch 177/300\n",
            "8/8 [==============================] - 0s 29ms/step - loss: 0.0034\n",
            "Epoch 178/300\n",
            "8/8 [==============================] - 0s 27ms/step - loss: 0.0039\n",
            "Epoch 179/300\n",
            "8/8 [==============================] - 0s 29ms/step - loss: 0.0035\n",
            "Epoch 180/300\n",
            "8/8 [==============================] - 0s 31ms/step - loss: 0.0030\n",
            "Epoch 181/300\n",
            "8/8 [==============================] - 0s 29ms/step - loss: 0.0036\n",
            "Epoch 182/300\n",
            "8/8 [==============================] - 0s 29ms/step - loss: 0.0029\n",
            "Epoch 183/300\n",
            "8/8 [==============================] - 0s 36ms/step - loss: 0.0029\n",
            "Epoch 184/300\n",
            "8/8 [==============================] - 0s 34ms/step - loss: 0.0026\n",
            "Epoch 185/300\n",
            "8/8 [==============================] - 0s 31ms/step - loss: 0.0025\n",
            "Epoch 186/300\n",
            "8/8 [==============================] - 0s 31ms/step - loss: 0.0026\n",
            "Epoch 187/300\n",
            "8/8 [==============================] - 0s 32ms/step - loss: 0.0025\n",
            "Epoch 188/300\n",
            "8/8 [==============================] - 0s 29ms/step - loss: 0.0039\n",
            "Epoch 189/300\n",
            "8/8 [==============================] - 0s 28ms/step - loss: 0.0031\n",
            "Epoch 190/300\n",
            "8/8 [==============================] - 0s 29ms/step - loss: 0.0031\n",
            "Epoch 191/300\n",
            "8/8 [==============================] - 0s 28ms/step - loss: 0.0028\n",
            "Epoch 192/300\n",
            "8/8 [==============================] - 0s 27ms/step - loss: 0.0035\n",
            "Epoch 193/300\n",
            "8/8 [==============================] - 0s 28ms/step - loss: 0.0033\n",
            "Epoch 194/300\n",
            "8/8 [==============================] - 0s 28ms/step - loss: 0.0024\n",
            "Epoch 195/300\n",
            "8/8 [==============================] - 0s 29ms/step - loss: 0.0034\n",
            "Epoch 196/300\n",
            "8/8 [==============================] - 0s 29ms/step - loss: 0.0034\n",
            "Epoch 197/300\n",
            "8/8 [==============================] - 0s 29ms/step - loss: 0.0027\n",
            "Epoch 198/300\n",
            "8/8 [==============================] - 0s 29ms/step - loss: 0.0029\n",
            "Epoch 199/300\n",
            "8/8 [==============================] - 0s 28ms/step - loss: 0.0028\n",
            "Epoch 200/300\n",
            "8/8 [==============================] - 0s 29ms/step - loss: 0.0030\n",
            "Epoch 201/300\n",
            "8/8 [==============================] - 0s 28ms/step - loss: 0.0033\n",
            "Epoch 202/300\n",
            "8/8 [==============================] - 0s 29ms/step - loss: 0.0031\n",
            "Epoch 203/300\n",
            "8/8 [==============================] - 0s 28ms/step - loss: 0.0032\n",
            "Epoch 204/300\n",
            "8/8 [==============================] - 0s 29ms/step - loss: 0.0028\n",
            "Epoch 205/300\n",
            "8/8 [==============================] - 0s 29ms/step - loss: 0.0030\n",
            "Epoch 206/300\n",
            "8/8 [==============================] - 0s 33ms/step - loss: 0.0030\n",
            "Epoch 207/300\n",
            "8/8 [==============================] - 0s 33ms/step - loss: 0.0027\n",
            "Epoch 208/300\n",
            "8/8 [==============================] - 0s 28ms/step - loss: 0.0026\n",
            "Epoch 209/300\n",
            "8/8 [==============================] - 0s 28ms/step - loss: 0.0029\n",
            "Epoch 210/300\n",
            "8/8 [==============================] - 0s 28ms/step - loss: 0.0026\n",
            "Epoch 211/300\n",
            "8/8 [==============================] - 0s 28ms/step - loss: 0.0027\n",
            "Epoch 212/300\n",
            "8/8 [==============================] - 0s 29ms/step - loss: 0.0032\n",
            "Epoch 213/300\n",
            "8/8 [==============================] - 0s 27ms/step - loss: 0.0037\n",
            "Epoch 214/300\n",
            "8/8 [==============================] - 0s 28ms/step - loss: 0.0030\n",
            "Epoch 215/300\n",
            "8/8 [==============================] - 0s 30ms/step - loss: 0.0042\n",
            "Epoch 216/300\n",
            "8/8 [==============================] - 0s 29ms/step - loss: 0.0033\n",
            "Epoch 217/300\n",
            "8/8 [==============================] - 0s 30ms/step - loss: 0.0035\n",
            "Epoch 218/300\n",
            "8/8 [==============================] - 0s 30ms/step - loss: 0.0037\n",
            "Epoch 219/300\n",
            "8/8 [==============================] - 0s 29ms/step - loss: 0.0030\n",
            "Epoch 220/300\n",
            "8/8 [==============================] - 0s 28ms/step - loss: 0.0040\n",
            "Epoch 221/300\n",
            "8/8 [==============================] - 0s 27ms/step - loss: 0.0030\n",
            "Epoch 222/300\n",
            "8/8 [==============================] - 0s 28ms/step - loss: 0.0028\n",
            "Epoch 223/300\n",
            "8/8 [==============================] - 0s 29ms/step - loss: 0.0025\n",
            "Epoch 224/300\n",
            "8/8 [==============================] - 0s 29ms/step - loss: 0.0032\n",
            "Epoch 225/300\n",
            "8/8 [==============================] - 0s 30ms/step - loss: 0.0035\n",
            "Epoch 226/300\n",
            "8/8 [==============================] - 0s 28ms/step - loss: 0.0037\n",
            "Epoch 227/300\n",
            "8/8 [==============================] - 0s 28ms/step - loss: 0.0034\n",
            "Epoch 228/300\n",
            "8/8 [==============================] - 0s 31ms/step - loss: 0.0027\n",
            "Epoch 229/300\n",
            "8/8 [==============================] - 0s 32ms/step - loss: 0.0029\n",
            "Epoch 230/300\n",
            "8/8 [==============================] - 0s 31ms/step - loss: 0.0035\n",
            "Epoch 231/300\n",
            "8/8 [==============================] - 0s 32ms/step - loss: 0.0034\n",
            "Epoch 232/300\n",
            "8/8 [==============================] - 0s 32ms/step - loss: 0.0029\n",
            "Epoch 233/300\n",
            "8/8 [==============================] - 0s 31ms/step - loss: 0.0026\n",
            "Epoch 234/300\n",
            "8/8 [==============================] - 0s 29ms/step - loss: 0.0035\n",
            "Epoch 235/300\n",
            "8/8 [==============================] - 0s 30ms/step - loss: 0.0029\n",
            "Epoch 236/300\n",
            "8/8 [==============================] - 0s 29ms/step - loss: 0.0030\n",
            "Epoch 237/300\n",
            "8/8 [==============================] - 0s 29ms/step - loss: 0.0029\n",
            "Epoch 238/300\n",
            "8/8 [==============================] - 0s 29ms/step - loss: 0.0028\n",
            "Epoch 239/300\n",
            "8/8 [==============================] - 0s 29ms/step - loss: 0.0030\n",
            "Epoch 240/300\n",
            "8/8 [==============================] - 0s 29ms/step - loss: 0.0030\n",
            "Epoch 241/300\n",
            "8/8 [==============================] - 0s 28ms/step - loss: 0.0028\n",
            "Epoch 242/300\n",
            "8/8 [==============================] - 0s 30ms/step - loss: 0.0026\n",
            "Epoch 243/300\n",
            "8/8 [==============================] - 0s 31ms/step - loss: 0.0033\n",
            "Epoch 244/300\n",
            "8/8 [==============================] - 0s 29ms/step - loss: 0.0033\n",
            "Epoch 245/300\n",
            "8/8 [==============================] - 0s 30ms/step - loss: 0.0039\n",
            "Epoch 246/300\n",
            "8/8 [==============================] - 0s 30ms/step - loss: 0.0026\n",
            "Epoch 247/300\n",
            "8/8 [==============================] - 0s 28ms/step - loss: 0.0030\n",
            "Epoch 248/300\n",
            "8/8 [==============================] - 0s 30ms/step - loss: 0.0032\n",
            "Epoch 249/300\n",
            "8/8 [==============================] - 0s 28ms/step - loss: 0.0024\n",
            "Epoch 250/300\n",
            "8/8 [==============================] - 0s 32ms/step - loss: 0.0035\n",
            "Epoch 251/300\n",
            "8/8 [==============================] - 0s 31ms/step - loss: 0.0032\n",
            "Epoch 252/300\n",
            "8/8 [==============================] - 0s 31ms/step - loss: 0.0036\n",
            "Epoch 253/300\n",
            "8/8 [==============================] - 0s 37ms/step - loss: 0.0037\n",
            "Epoch 254/300\n",
            "8/8 [==============================] - 0s 29ms/step - loss: 0.0032\n",
            "Epoch 255/300\n",
            "8/8 [==============================] - 0s 29ms/step - loss: 0.0035\n",
            "Epoch 256/300\n",
            "8/8 [==============================] - 0s 28ms/step - loss: 0.0034\n",
            "Epoch 257/300\n",
            "8/8 [==============================] - 0s 29ms/step - loss: 0.0027\n",
            "Epoch 258/300\n",
            "8/8 [==============================] - 0s 32ms/step - loss: 0.0027\n",
            "Epoch 259/300\n",
            "8/8 [==============================] - 0s 32ms/step - loss: 0.0026\n",
            "Epoch 260/300\n",
            "8/8 [==============================] - 0s 28ms/step - loss: 0.0026\n",
            "Epoch 261/300\n",
            "8/8 [==============================] - 0s 30ms/step - loss: 0.0030\n",
            "Epoch 262/300\n",
            "8/8 [==============================] - 0s 29ms/step - loss: 0.0025\n",
            "Epoch 263/300\n",
            "8/8 [==============================] - 0s 28ms/step - loss: 0.0024\n",
            "Epoch 264/300\n",
            "8/8 [==============================] - 0s 28ms/step - loss: 0.0029\n",
            "Epoch 265/300\n",
            "8/8 [==============================] - 0s 28ms/step - loss: 0.0029\n",
            "Epoch 266/300\n",
            "8/8 [==============================] - 0s 29ms/step - loss: 0.0027\n",
            "Epoch 267/300\n",
            "8/8 [==============================] - 0s 28ms/step - loss: 0.0028\n",
            "Epoch 268/300\n",
            "8/8 [==============================] - 0s 30ms/step - loss: 0.0025\n",
            "Epoch 269/300\n",
            "8/8 [==============================] - 0s 28ms/step - loss: 0.0032\n",
            "Epoch 270/300\n",
            "8/8 [==============================] - 0s 29ms/step - loss: 0.0030\n",
            "Epoch 271/300\n",
            "8/8 [==============================] - 0s 29ms/step - loss: 0.0032\n",
            "Epoch 272/300\n",
            "8/8 [==============================] - 0s 29ms/step - loss: 0.0028\n",
            "Epoch 273/300\n",
            "8/8 [==============================] - 0s 30ms/step - loss: 0.0030\n",
            "Epoch 274/300\n",
            "8/8 [==============================] - 0s 28ms/step - loss: 0.0034\n",
            "Epoch 275/300\n",
            "8/8 [==============================] - 0s 28ms/step - loss: 0.0025\n",
            "Epoch 276/300\n",
            "8/8 [==============================] - 0s 29ms/step - loss: 0.0025\n",
            "Epoch 277/300\n",
            "8/8 [==============================] - 0s 29ms/step - loss: 0.0034\n",
            "Epoch 278/300\n",
            "8/8 [==============================] - 0s 29ms/step - loss: 0.0029\n",
            "Epoch 279/300\n",
            "8/8 [==============================] - 0s 29ms/step - loss: 0.0026\n",
            "Epoch 280/300\n",
            "8/8 [==============================] - 0s 28ms/step - loss: 0.0029\n",
            "Epoch 281/300\n",
            "8/8 [==============================] - 0s 27ms/step - loss: 0.0023\n",
            "Epoch 282/300\n",
            "8/8 [==============================] - 0s 29ms/step - loss: 0.0033\n",
            "Epoch 283/300\n",
            "8/8 [==============================] - 0s 30ms/step - loss: 0.0024\n",
            "Epoch 284/300\n",
            "8/8 [==============================] - 0s 28ms/step - loss: 0.0030\n",
            "Epoch 285/300\n",
            "8/8 [==============================] - 0s 29ms/step - loss: 0.0025\n",
            "Epoch 286/300\n",
            "8/8 [==============================] - 0s 29ms/step - loss: 0.0025\n",
            "Epoch 287/300\n",
            "8/8 [==============================] - 0s 28ms/step - loss: 0.0022\n",
            "Epoch 288/300\n",
            "8/8 [==============================] - 0s 27ms/step - loss: 0.0027\n",
            "Epoch 289/300\n",
            "8/8 [==============================] - 0s 30ms/step - loss: 0.0030\n",
            "Epoch 290/300\n",
            "8/8 [==============================] - 0s 27ms/step - loss: 0.0039\n",
            "Epoch 291/300\n",
            "8/8 [==============================] - 0s 29ms/step - loss: 0.0040\n",
            "Epoch 292/300\n",
            "8/8 [==============================] - 0s 29ms/step - loss: 0.0033\n",
            "Epoch 293/300\n",
            "8/8 [==============================] - 0s 29ms/step - loss: 0.0033\n",
            "Epoch 294/300\n",
            "8/8 [==============================] - 0s 31ms/step - loss: 0.0032\n",
            "Epoch 295/300\n",
            "8/8 [==============================] - 0s 34ms/step - loss: 0.0030\n",
            "Epoch 296/300\n",
            "8/8 [==============================] - 0s 28ms/step - loss: 0.0041\n",
            "Epoch 297/300\n",
            "8/8 [==============================] - 0s 28ms/step - loss: 0.0031\n",
            "Epoch 298/300\n",
            "8/8 [==============================] - 0s 29ms/step - loss: 0.0029\n",
            "Epoch 299/300\n",
            "8/8 [==============================] - 0s 35ms/step - loss: 0.0031\n",
            "Epoch 300/300\n",
            "8/8 [==============================] - 0s 29ms/step - loss: 0.0033\n"
          ]
        },
        {
          "data": {
            "text/plain": [
              "<tensorflow.python.keras.callbacks.History at 0x7f347005e350>"
            ]
          },
          "execution_count": 28,
          "metadata": {},
          "output_type": "execute_result"
        }
      ],
      "source": [
        "model.fit(x_train,y_train,epochs=300, verbose=1, )"
      ]
    },
    {
      "cell_type": "code",
      "execution_count": null,
      "metadata": {
        "execution": {
          "iopub.execute_input": "2021-03-05T11:16:26.460953Z",
          "iopub.status.busy": "2021-03-05T11:16:26.460276Z",
          "iopub.status.idle": "2021-03-05T11:16:26.463274Z",
          "shell.execute_reply": "2021-03-05T11:16:26.462751Z"
        },
        "papermill": {
          "duration": 0.526653,
          "end_time": "2021-03-05T11:16:26.463423",
          "exception": false,
          "start_time": "2021-03-05T11:16:25.936770",
          "status": "completed"
        },
        "tags": [],
        "id": "KOxIx1nrsOPj"
      },
      "outputs": [],
      "source": [
        "# model.evaluate(x_test, y_test)"
      ]
    },
    {
      "cell_type": "markdown",
      "metadata": {
        "papermill": {
          "duration": 0.510612,
          "end_time": "2021-03-05T11:16:27.483257",
          "exception": false,
          "start_time": "2021-03-05T11:16:26.972645",
          "status": "completed"
        },
        "tags": [],
        "id": "Ld6bNye3sOPp"
      },
      "source": [
        "### Predictions and Model evaluation"
      ]
    },
    {
      "cell_type": "markdown",
      "metadata": {
        "papermill": {
          "duration": 0.515905,
          "end_time": "2021-03-05T11:16:28.511896",
          "exception": false,
          "start_time": "2021-03-05T11:16:27.995991",
          "status": "completed"
        },
        "tags": [],
        "id": "n0vuyJJzsOPq"
      },
      "source": [
        "Predictions on training set"
      ]
    },
    {
      "cell_type": "code",
      "execution_count": null,
      "metadata": {
        "execution": {
          "iopub.execute_input": "2021-03-05T11:16:29.603649Z",
          "iopub.status.busy": "2021-03-05T11:16:29.602644Z",
          "iopub.status.idle": "2021-03-05T11:16:31.000745Z",
          "shell.execute_reply": "2021-03-05T11:16:31.001349Z"
        },
        "papermill": {
          "duration": 1.921717,
          "end_time": "2021-03-05T11:16:31.001558",
          "exception": false,
          "start_time": "2021-03-05T11:16:29.079841",
          "status": "completed"
        },
        "tags": [],
        "id": "wITYtkA4sOPq",
        "outputId": "16484d4f-df2f-4f6b-b236-69e81188fe68"
      },
      "outputs": [
        {
          "name": "stdout",
          "output_type": "stream",
          "text": [
            "Predicted Value 0.7321534\n",
            "Expected value 0.7083333333333334\n"
          ]
        }
      ],
      "source": [
        "print(\"Predicted Value\",model.predict(x_train)[4][0])\n",
        "print(\"Expected value\",y_train[4][0])"
      ]
    },
    {
      "cell_type": "markdown",
      "metadata": {
        "papermill": {
          "duration": 0.53262,
          "end_time": "2021-03-05T11:16:32.047156",
          "exception": false,
          "start_time": "2021-03-05T11:16:31.514536",
          "status": "completed"
        },
        "tags": [],
        "id": "dSSlfQTUsOPw"
      },
      "source": [
        "Predictions on testing set"
      ]
    },
    {
      "cell_type": "code",
      "execution_count": null,
      "metadata": {
        "execution": {
          "iopub.execute_input": "2021-03-05T11:16:33.104050Z",
          "iopub.status.busy": "2021-03-05T11:16:33.103332Z",
          "iopub.status.idle": "2021-03-05T11:16:33.178422Z",
          "shell.execute_reply": "2021-03-05T11:16:33.177818Z"
        },
        "papermill": {
          "duration": 0.603016,
          "end_time": "2021-03-05T11:16:33.178579",
          "exception": false,
          "start_time": "2021-03-05T11:16:32.575563",
          "status": "completed"
        },
        "tags": [],
        "id": "XS2oLLDKsOPw"
      },
      "outputs": [],
      "source": [
        "predictions=model.predict(x_test)"
      ]
    },
    {
      "cell_type": "code",
      "execution_count": null,
      "metadata": {
        "execution": {
          "iopub.execute_input": "2021-03-05T11:16:34.245562Z",
          "iopub.status.busy": "2021-03-05T11:16:34.244864Z",
          "iopub.status.idle": "2021-03-05T11:16:34.247548Z",
          "shell.execute_reply": "2021-03-05T11:16:34.248047Z"
        },
        "papermill": {
          "duration": 0.539641,
          "end_time": "2021-03-05T11:16:34.248224",
          "exception": false,
          "start_time": "2021-03-05T11:16:33.708583",
          "status": "completed"
        },
        "tags": [],
        "id": "0gOXjIyKsOPx",
        "outputId": "32b04061-83f4-4867-a64d-7a0156e11949"
      },
      "outputs": [
        {
          "name": "stdout",
          "output_type": "stream",
          "text": [
            "Predicted Value 0.42669037\n",
            "Expected Value 0.41666666666666663\n"
          ]
        }
      ],
      "source": [
        "print(\"Predicted Value\",predictions[2][0])\n",
        "print(\"Expected Value\",y_test[2][0])"
      ]
    },
    {
      "cell_type": "code",
      "execution_count": null,
      "metadata": {
        "papermill": {
          "duration": 0.530278,
          "end_time": "2021-03-05T11:16:35.302322",
          "exception": false,
          "start_time": "2021-03-05T11:16:34.772044",
          "status": "completed"
        },
        "tags": [],
        "id": "tvqvpXHCsOP3"
      },
      "outputs": [],
      "source": []
    },
    {
      "cell_type": "code",
      "execution_count": null,
      "metadata": {
        "execution": {
          "iopub.execute_input": "2021-03-05T11:16:36.403230Z",
          "iopub.status.busy": "2021-03-05T11:16:36.402509Z",
          "iopub.status.idle": "2021-03-05T11:16:36.407241Z",
          "shell.execute_reply": "2021-03-05T11:16:36.407722Z"
        },
        "papermill": {
          "duration": 0.563711,
          "end_time": "2021-03-05T11:16:36.407931",
          "exception": false,
          "start_time": "2021-03-05T11:16:35.844220",
          "status": "completed"
        },
        "tags": [],
        "id": "6emiCSw1sOP3",
        "outputId": "d5d3621c-10cf-4a74-d4aa-28722fd20682"
      },
      "outputs": [
        {
          "data": {
            "text/plain": [
              "(105, 1)"
            ]
          },
          "execution_count": 33,
          "metadata": {},
          "output_type": "execute_result"
        }
      ],
      "source": [
        "predictions.shape"
      ]
    },
    {
      "cell_type": "code",
      "execution_count": null,
      "metadata": {
        "execution": {
          "iopub.execute_input": "2021-03-05T11:16:37.500012Z",
          "iopub.status.busy": "2021-03-05T11:16:37.499309Z",
          "iopub.status.idle": "2021-03-05T11:16:37.504237Z",
          "shell.execute_reply": "2021-03-05T11:16:37.503604Z"
        },
        "papermill": {
          "duration": 0.574574,
          "end_time": "2021-03-05T11:16:37.504395",
          "exception": false,
          "start_time": "2021-03-05T11:16:36.929821",
          "status": "completed"
        },
        "tags": [],
        "id": "LbDCMBP6sOP4",
        "outputId": "e4f77a70-676a-419d-9ad8-14e322fee33f"
      },
      "outputs": [
        {
          "data": {
            "text/plain": [
              "(105, 1)"
            ]
          },
          "execution_count": 34,
          "metadata": {},
          "output_type": "execute_result"
        }
      ],
      "source": [
        "y_test.shape"
      ]
    },
    {
      "cell_type": "code",
      "execution_count": null,
      "metadata": {
        "execution": {
          "iopub.execute_input": "2021-03-05T11:16:38.592283Z",
          "iopub.status.busy": "2021-03-05T11:16:38.590923Z",
          "iopub.status.idle": "2021-03-05T11:16:38.595231Z",
          "shell.execute_reply": "2021-03-05T11:16:38.594666Z"
        },
        "papermill": {
          "duration": 0.538878,
          "end_time": "2021-03-05T11:16:38.595389",
          "exception": false,
          "start_time": "2021-03-05T11:16:38.056511",
          "status": "completed"
        },
        "tags": [],
        "id": "U8zN6XNrsOP5"
      },
      "outputs": [],
      "source": [
        "pred_df=pd.DataFrame(predictions)"
      ]
    },
    {
      "cell_type": "code",
      "execution_count": null,
      "metadata": {
        "execution": {
          "iopub.execute_input": "2021-03-05T11:16:39.667561Z",
          "iopub.status.busy": "2021-03-05T11:16:39.666704Z",
          "iopub.status.idle": "2021-03-05T11:16:39.670635Z",
          "shell.execute_reply": "2021-03-05T11:16:39.670095Z"
        },
        "papermill": {
          "duration": 0.524745,
          "end_time": "2021-03-05T11:16:39.670791",
          "exception": false,
          "start_time": "2021-03-05T11:16:39.146046",
          "status": "completed"
        },
        "tags": [],
        "id": "c_mGSI_usOP-"
      },
      "outputs": [],
      "source": [
        "pred_df['TrueValues']=y_test"
      ]
    },
    {
      "cell_type": "code",
      "execution_count": null,
      "metadata": {
        "execution": {
          "iopub.execute_input": "2021-03-05T11:16:40.823917Z",
          "iopub.status.busy": "2021-03-05T11:16:40.823178Z",
          "iopub.status.idle": "2021-03-05T11:16:40.826526Z",
          "shell.execute_reply": "2021-03-05T11:16:40.825978Z"
        },
        "papermill": {
          "duration": 0.568356,
          "end_time": "2021-03-05T11:16:40.826690",
          "exception": false,
          "start_time": "2021-03-05T11:16:40.258334",
          "status": "completed"
        },
        "tags": [],
        "id": "P_Cd29TusOP-"
      },
      "outputs": [],
      "source": [
        "pred_df_new = pred_df.rename(columns={ 0: 'Predictions'})"
      ]
    },
    {
      "cell_type": "code",
      "execution_count": null,
      "metadata": {
        "execution": {
          "iopub.execute_input": "2021-03-05T11:16:41.907314Z",
          "iopub.status.busy": "2021-03-05T11:16:41.906329Z",
          "iopub.status.idle": "2021-03-05T11:16:41.911262Z",
          "shell.execute_reply": "2021-03-05T11:16:41.910542Z"
        },
        "papermill": {
          "duration": 0.55583,
          "end_time": "2021-03-05T11:16:41.911416",
          "exception": false,
          "start_time": "2021-03-05T11:16:41.355586",
          "status": "completed"
        },
        "tags": [],
        "id": "wO1sxp3PsOP_",
        "outputId": "1339c408-fa91-41bb-8648-624a3b946d0b"
      },
      "outputs": [
        {
          "data": {
            "text/html": [
              "<div>\n",
              "<style scoped>\n",
              "    .dataframe tbody tr th:only-of-type {\n",
              "        vertical-align: middle;\n",
              "    }\n",
              "\n",
              "    .dataframe tbody tr th {\n",
              "        vertical-align: top;\n",
              "    }\n",
              "\n",
              "    .dataframe thead th {\n",
              "        text-align: right;\n",
              "    }\n",
              "</style>\n",
              "<table border=\"1\" class=\"dataframe\">\n",
              "  <thead>\n",
              "    <tr style=\"text-align: right;\">\n",
              "      <th></th>\n",
              "      <th>Predictions</th>\n",
              "      <th>TrueValues</th>\n",
              "    </tr>\n",
              "  </thead>\n",
              "  <tbody>\n",
              "    <tr>\n",
              "      <th>0</th>\n",
              "      <td>0.469617</td>\n",
              "      <td>0.541667</td>\n",
              "    </tr>\n",
              "    <tr>\n",
              "      <th>1</th>\n",
              "      <td>0.574576</td>\n",
              "      <td>0.416667</td>\n",
              "    </tr>\n",
              "    <tr>\n",
              "      <th>2</th>\n",
              "      <td>0.426690</td>\n",
              "      <td>0.416667</td>\n",
              "    </tr>\n",
              "    <tr>\n",
              "      <th>3</th>\n",
              "      <td>0.434639</td>\n",
              "      <td>0.458333</td>\n",
              "    </tr>\n",
              "    <tr>\n",
              "      <th>4</th>\n",
              "      <td>0.505478</td>\n",
              "      <td>0.500000</td>\n",
              "    </tr>\n",
              "    <tr>\n",
              "      <th>...</th>\n",
              "      <td>...</td>\n",
              "      <td>...</td>\n",
              "    </tr>\n",
              "    <tr>\n",
              "      <th>100</th>\n",
              "      <td>0.241969</td>\n",
              "      <td>0.291667</td>\n",
              "    </tr>\n",
              "    <tr>\n",
              "      <th>101</th>\n",
              "      <td>0.293324</td>\n",
              "      <td>0.208333</td>\n",
              "    </tr>\n",
              "    <tr>\n",
              "      <th>102</th>\n",
              "      <td>0.245331</td>\n",
              "      <td>0.250000</td>\n",
              "    </tr>\n",
              "    <tr>\n",
              "      <th>103</th>\n",
              "      <td>0.283295</td>\n",
              "      <td>0.250000</td>\n",
              "    </tr>\n",
              "    <tr>\n",
              "      <th>104</th>\n",
              "      <td>0.311354</td>\n",
              "      <td>0.291667</td>\n",
              "    </tr>\n",
              "  </tbody>\n",
              "</table>\n",
              "<p>105 rows × 2 columns</p>\n",
              "</div>"
            ],
            "text/plain": [
              "     Predictions  TrueValues\n",
              "0       0.469617    0.541667\n",
              "1       0.574576    0.416667\n",
              "2       0.426690    0.416667\n",
              "3       0.434639    0.458333\n",
              "4       0.505478    0.500000\n",
              "..           ...         ...\n",
              "100     0.241969    0.291667\n",
              "101     0.293324    0.208333\n",
              "102     0.245331    0.250000\n",
              "103     0.283295    0.250000\n",
              "104     0.311354    0.291667\n",
              "\n",
              "[105 rows x 2 columns]"
            ]
          },
          "execution_count": 38,
          "metadata": {},
          "output_type": "execute_result"
        }
      ],
      "source": [
        "pred_df_new"
      ]
    },
    {
      "cell_type": "code",
      "execution_count": null,
      "metadata": {
        "execution": {
          "iopub.execute_input": "2021-03-05T11:16:43.005901Z",
          "iopub.status.busy": "2021-03-05T11:16:43.005142Z",
          "iopub.status.idle": "2021-03-05T11:16:43.320505Z",
          "shell.execute_reply": "2021-03-05T11:16:43.319676Z"
        },
        "papermill": {
          "duration": 0.86992,
          "end_time": "2021-03-05T11:16:43.320673",
          "exception": false,
          "start_time": "2021-03-05T11:16:42.450753",
          "status": "completed"
        },
        "tags": [],
        "id": "tVO2UFHjsOQB",
        "outputId": "dc69581c-3337-4250-ae59-64c50d783772"
      },
      "outputs": [
        {
          "data": {
            "text/plain": [
              "Text(0.5, 1.0, 'Predictions VS True Values on Testing Set')"
            ]
          },
          "execution_count": 39,
          "metadata": {},
          "output_type": "execute_result"
        },
        {
          "data": {
            "image/png": "[encoded data removed]",
            "text/plain": [
              "<Figure size 864x576 with 1 Axes>"
            ]
          },
          "metadata": {
            "needs_background": "light"
          },
          "output_type": "display_data"
        }
      ],
      "source": [
        "plt.figure(figsize=(12,8))\n",
        "sns.lineplot(data= pred_df_new)\n",
        "plt.title(\"Predictions VS True Values on Testing Set\")"
      ]
    },
    {
      "cell_type": "code",
      "execution_count": null,
      "metadata": {
        "papermill": {
          "duration": 0.554836,
          "end_time": "2021-03-05T11:16:44.463150",
          "exception": false,
          "start_time": "2021-03-05T11:16:43.908314",
          "status": "completed"
        },
        "tags": [],
        "id": "NIq8FzQxsOQB"
      },
      "outputs": [],
      "source": []
    },
    {
      "cell_type": "markdown",
      "metadata": {
        "papermill": {
          "duration": 0.532653,
          "end_time": "2021-03-05T11:16:45.523278",
          "exception": false,
          "start_time": "2021-03-05T11:16:44.990625",
          "status": "completed"
        },
        "tags": [],
        "id": "p8eMmvOxsOQC"
      },
      "source": [
        "### Weather Predictions for next 30 Days"
      ]
    },
    {
      "cell_type": "markdown",
      "metadata": {
        "papermill": {
          "duration": 0.533826,
          "end_time": "2021-03-05T11:16:46.594407",
          "exception": false,
          "start_time": "2021-03-05T11:16:46.060581",
          "status": "completed"
        },
        "tags": [],
        "id": "wvJcVIkosOQC"
      },
      "source": [
        "we are using last 10 days input for 1st day output"
      ]
    },
    {
      "cell_type": "code",
      "execution_count": null,
      "metadata": {
        "execution": {
          "iopub.execute_input": "2021-03-05T11:16:47.680885Z",
          "iopub.status.busy": "2021-03-05T11:16:47.680180Z",
          "iopub.status.idle": "2021-03-05T11:16:47.685138Z",
          "shell.execute_reply": "2021-03-05T11:16:47.685623Z"
        },
        "papermill": {
          "duration": 0.533407,
          "end_time": "2021-03-05T11:16:47.685794",
          "exception": false,
          "start_time": "2021-03-05T11:16:47.152387",
          "status": "completed"
        },
        "tags": [],
        "id": "InN8BxW8sOQD",
        "outputId": "a3e96243-80c0-431b-f7c2-63fc10fc555f"
      },
      "outputs": [
        {
          "data": {
            "text/plain": [
              "(362, 1)"
            ]
          },
          "execution_count": 40,
          "metadata": {},
          "output_type": "execute_result"
        }
      ],
      "source": [
        "data_scaled.shape"
      ]
    },
    {
      "cell_type": "code",
      "execution_count": null,
      "metadata": {
        "execution": {
          "iopub.execute_input": "2021-03-05T11:16:48.777422Z",
          "iopub.status.busy": "2021-03-05T11:16:48.776684Z",
          "iopub.status.idle": "2021-03-05T11:16:48.780453Z",
          "shell.execute_reply": "2021-03-05T11:16:48.781177Z"
        },
        "papermill": {
          "duration": 0.556989,
          "end_time": "2021-03-05T11:16:48.781367",
          "exception": false,
          "start_time": "2021-03-05T11:16:48.224378",
          "status": "completed"
        },
        "tags": [],
        "id": "Vy_piMiNsOQE"
      },
      "outputs": [],
      "source": [
        "x_input=data_scaled[:20]"
      ]
    },
    {
      "cell_type": "code",
      "execution_count": null,
      "metadata": {
        "execution": {
          "iopub.execute_input": "2021-03-05T11:16:49.857769Z",
          "iopub.status.busy": "2021-03-05T11:16:49.857119Z",
          "iopub.status.idle": "2021-03-05T11:16:49.862249Z",
          "shell.execute_reply": "2021-03-05T11:16:49.862707Z"
        },
        "papermill": {
          "duration": 0.547646,
          "end_time": "2021-03-05T11:16:49.862913",
          "exception": false,
          "start_time": "2021-03-05T11:16:49.315267",
          "status": "completed"
        },
        "tags": [],
        "id": "6Lr0saLcsOQF",
        "outputId": "584f0494-f1ea-404a-c9ba-96d0923eb2b2"
      },
      "outputs": [
        {
          "data": {
            "text/plain": [
              "(20, 1)"
            ]
          },
          "execution_count": 42,
          "metadata": {},
          "output_type": "execute_result"
        }
      ],
      "source": [
        "x_input.shape"
      ]
    },
    {
      "cell_type": "code",
      "execution_count": null,
      "metadata": {
        "execution": {
          "iopub.execute_input": "2021-03-05T11:16:50.938260Z",
          "iopub.status.busy": "2021-03-05T11:16:50.937541Z",
          "iopub.status.idle": "2021-03-05T11:16:50.940524Z",
          "shell.execute_reply": "2021-03-05T11:16:50.939995Z"
        },
        "papermill": {
          "duration": 0.534946,
          "end_time": "2021-03-05T11:16:50.940678",
          "exception": false,
          "start_time": "2021-03-05T11:16:50.405732",
          "status": "completed"
        },
        "tags": [],
        "id": "kS4Ze20csOQG"
      },
      "outputs": [],
      "source": [
        "# now reshaping the data\n",
        "x_input = x_input.reshape(1, -1)"
      ]
    },
    {
      "cell_type": "code",
      "execution_count": null,
      "metadata": {
        "execution": {
          "iopub.execute_input": "2021-03-05T11:16:52.020246Z",
          "iopub.status.busy": "2021-03-05T11:16:52.019591Z",
          "iopub.status.idle": "2021-03-05T11:16:52.022639Z",
          "shell.execute_reply": "2021-03-05T11:16:52.023297Z"
        },
        "papermill": {
          "duration": 0.565575,
          "end_time": "2021-03-05T11:16:52.023490",
          "exception": false,
          "start_time": "2021-03-05T11:16:51.457915",
          "status": "completed"
        },
        "tags": [],
        "id": "KErz1gJvsOQH",
        "outputId": "28626e97-caf6-4ca5-eab2-c64a2d5b935a"
      },
      "outputs": [
        {
          "data": {
            "text/plain": [
              "(1, 20)"
            ]
          },
          "execution_count": 44,
          "metadata": {},
          "output_type": "execute_result"
        }
      ],
      "source": [
        "x_input.shape"
      ]
    },
    {
      "cell_type": "code",
      "execution_count": null,
      "metadata": {
        "execution": {
          "iopub.execute_input": "2021-03-05T11:16:53.087340Z",
          "iopub.status.busy": "2021-03-05T11:16:53.086496Z",
          "iopub.status.idle": "2021-03-05T11:16:53.091377Z",
          "shell.execute_reply": "2021-03-05T11:16:53.092268Z"
        },
        "papermill": {
          "duration": 0.538332,
          "end_time": "2021-03-05T11:16:53.092499",
          "exception": false,
          "start_time": "2021-03-05T11:16:52.554167",
          "status": "completed"
        },
        "tags": [],
        "id": "FdIPG0pBsOQI"
      },
      "outputs": [],
      "source": [
        "# x_input = x_input.reshape((1, 20,1))\n",
        "# yhat = model.predict(x_input, verbose=0)"
      ]
    },
    {
      "cell_type": "code",
      "execution_count": null,
      "metadata": {
        "execution": {
          "iopub.execute_input": "2021-03-05T11:16:54.175600Z",
          "iopub.status.busy": "2021-03-05T11:16:54.174689Z",
          "iopub.status.idle": "2021-03-05T11:16:54.177999Z",
          "shell.execute_reply": "2021-03-05T11:16:54.177339Z"
        },
        "papermill": {
          "duration": 0.559076,
          "end_time": "2021-03-05T11:16:54.178152",
          "exception": false,
          "start_time": "2021-03-05T11:16:53.619076",
          "status": "completed"
        },
        "tags": [],
        "id": "UkLvFh3NsOQJ"
      },
      "outputs": [],
      "source": [
        "temp_input = list(x_input)\n",
        "temp_input = temp_input[0].tolist()"
      ]
    },
    {
      "cell_type": "markdown",
      "metadata": {
        "papermill": {
          "duration": 0.528288,
          "end_time": "2021-03-05T11:16:55.252558",
          "exception": false,
          "start_time": "2021-03-05T11:16:54.724270",
          "status": "completed"
        },
        "tags": [],
        "id": "dUHDgawOsOQK"
      },
      "source": [
        "creatitng a  functions which returns the next 30 days prediction"
      ]
    },
    {
      "cell_type": "code",
      "execution_count": null,
      "metadata": {
        "execution": {
          "iopub.execute_input": "2021-03-05T11:16:56.310446Z",
          "iopub.status.busy": "2021-03-05T11:16:56.309749Z",
          "iopub.status.idle": "2021-03-05T11:16:57.739984Z",
          "shell.execute_reply": "2021-03-05T11:16:57.739215Z"
        },
        "papermill": {
          "duration": 1.963526,
          "end_time": "2021-03-05T11:16:57.740147",
          "exception": false,
          "start_time": "2021-03-05T11:16:55.776621",
          "status": "completed"
        },
        "tags": [],
        "id": "AgtX7OWBsOQL",
        "outputId": "c74309fb-99b8-49c5-bb74-a337168105a6"
      },
      "outputs": [
        {
          "name": "stdout",
          "output_type": "stream",
          "text": [
            "[0.8552897]\n",
            "1 day input [0.75       0.58333333 0.58333333 0.54166667 0.45833333 0.45833333\n",
            " 0.45833333 0.375      0.375      0.375      0.375      0.375\n",
            " 0.375      0.41666667 0.5        0.54166667 0.66666667 0.75\n",
            " 0.83333333 0.8552897 ]\n",
            "1 day output [[0.849947]]\n",
            "2 day input [0.58333333 0.58333333 0.54166667 0.45833333 0.45833333 0.45833333\n",
            " 0.375      0.375      0.375      0.375      0.375      0.375\n",
            " 0.41666667 0.5        0.54166667 0.66666667 0.75       0.83333333\n",
            " 0.8552897  0.84994698]\n",
            "2 day output [[0.8108601]]\n",
            "3 day input [0.58333333 0.54166667 0.45833333 0.45833333 0.45833333 0.375\n",
            " 0.375      0.375      0.375      0.375      0.375      0.41666667\n",
            " 0.5        0.54166667 0.66666667 0.75       0.83333333 0.8552897\n",
            " 0.84994698 0.8108601 ]\n",
            "3 day output [[0.7488959]]\n",
            "4 day input [0.54166667 0.45833333 0.45833333 0.45833333 0.375      0.375\n",
            " 0.375      0.375      0.375      0.375      0.41666667 0.5\n",
            " 0.54166667 0.66666667 0.75       0.83333333 0.8552897  0.84994698\n",
            " 0.8108601  0.74889588]\n",
            "4 day output [[0.67396104]]\n",
            "5 day input [0.45833333 0.45833333 0.45833333 0.375      0.375      0.375\n",
            " 0.375      0.375      0.375      0.41666667 0.5        0.54166667\n",
            " 0.66666667 0.75       0.83333333 0.8552897  0.84994698 0.8108601\n",
            " 0.74889588 0.67396104]\n",
            "5 day output [[0.6020675]]\n",
            "6 day input [0.45833333 0.45833333 0.375      0.375      0.375      0.375\n",
            " 0.375      0.375      0.41666667 0.5        0.54166667 0.66666667\n",
            " 0.75       0.83333333 0.8552897  0.84994698 0.8108601  0.74889588\n",
            " 0.67396104 0.60206747]\n",
            "6 day output [[0.5451594]]\n",
            "7 day input [0.45833333 0.375      0.375      0.375      0.375      0.375\n",
            " 0.375      0.41666667 0.5        0.54166667 0.66666667 0.75\n",
            " 0.83333333 0.8552897  0.84994698 0.8108601  0.74889588 0.67396104\n",
            " 0.60206747 0.5451594 ]\n",
            "7 day output [[0.5067888]]\n",
            "8 day input [0.375      0.375      0.375      0.375      0.375      0.375\n",
            " 0.41666667 0.5        0.54166667 0.66666667 0.75       0.83333333\n",
            " 0.8552897  0.84994698 0.8108601  0.74889588 0.67396104 0.60206747\n",
            " 0.5451594  0.50678879]\n",
            "8 day output [[0.48569614]]\n",
            "9 day input [0.375      0.375      0.375      0.375      0.375      0.41666667\n",
            " 0.5        0.54166667 0.66666667 0.75       0.83333333 0.8552897\n",
            " 0.84994698 0.8108601  0.74889588 0.67396104 0.60206747 0.5451594\n",
            " 0.50678879 0.48569614]\n",
            "9 day output [[0.477896]]\n",
            "10 day input [0.375      0.375      0.375      0.375      0.41666667 0.5\n",
            " 0.54166667 0.66666667 0.75       0.83333333 0.8552897  0.84994698\n",
            " 0.8108601  0.74889588 0.67396104 0.60206747 0.5451594  0.50678879\n",
            " 0.48569614 0.477896  ]\n",
            "10 day output [[0.47765487]]\n",
            "11 day input [0.375      0.375      0.375      0.41666667 0.5        0.54166667\n",
            " 0.66666667 0.75       0.83333333 0.8552897  0.84994698 0.8108601\n",
            " 0.74889588 0.67396104 0.60206747 0.5451594  0.50678879 0.48569614\n",
            " 0.477896   0.47765487]\n",
            "11 day output [[0.48058867]]\n",
            "12 day input [0.375      0.375      0.41666667 0.5        0.54166667 0.66666667\n",
            " 0.75       0.83333333 0.8552897  0.84994698 0.8108601  0.74889588\n",
            " 0.67396104 0.60206747 0.5451594  0.50678879 0.48569614 0.477896\n",
            " 0.47765487 0.48058867]\n",
            "12 day output [[0.48434678]]\n",
            "13 day input [0.375      0.41666667 0.5        0.54166667 0.66666667 0.75\n",
            " 0.83333333 0.8552897  0.84994698 0.8108601  0.74889588 0.67396104\n",
            " 0.60206747 0.5451594  0.50678879 0.48569614 0.477896   0.47765487\n",
            " 0.48058867 0.48434678]\n",
            "13 day output [[0.4890255]]\n",
            "14 day input [0.41666667 0.5        0.54166667 0.66666667 0.75       0.83333333\n",
            " 0.8552897  0.84994698 0.8108601  0.74889588 0.67396104 0.60206747\n",
            " 0.5451594  0.50678879 0.48569614 0.477896   0.47765487 0.48058867\n",
            " 0.48434678 0.4890255 ]\n",
            "14 day output [[0.4969331]]\n",
            "15 day input [0.5        0.54166667 0.66666667 0.75       0.83333333 0.8552897\n",
            " 0.84994698 0.8108601  0.74889588 0.67396104 0.60206747 0.5451594\n",
            " 0.50678879 0.48569614 0.477896   0.47765487 0.48058867 0.48434678\n",
            " 0.4890255  0.4969331 ]\n",
            "15 day output [[0.5115264]]\n",
            "16 day input [0.54166667 0.66666667 0.75       0.83333333 0.8552897  0.84994698\n",
            " 0.8108601  0.74889588 0.67396104 0.60206747 0.5451594  0.50678879\n",
            " 0.48569614 0.477896   0.47765487 0.48058867 0.48434678 0.4890255\n",
            " 0.4969331  0.51152641]\n",
            "16 day output [[0.53595716]]\n",
            "17 day input [0.66666667 0.75       0.83333333 0.8552897  0.84994698 0.8108601\n",
            " 0.74889588 0.67396104 0.60206747 0.5451594  0.50678879 0.48569614\n",
            " 0.477896   0.47765487 0.48058867 0.48434678 0.4890255  0.4969331\n",
            " 0.51152641 0.53595716]\n",
            "17 day output [[0.5721187]]\n",
            "18 day input [0.75       0.83333333 0.8552897  0.84994698 0.8108601  0.74889588\n",
            " 0.67396104 0.60206747 0.5451594  0.50678879 0.48569614 0.477896\n",
            " 0.47765487 0.48058867 0.48434678 0.4890255  0.4969331  0.51152641\n",
            " 0.53595716 0.5721187 ]\n",
            "18 day output [[0.6179028]]\n",
            "19 day input [0.83333333 0.8552897  0.84994698 0.8108601  0.74889588 0.67396104\n",
            " 0.60206747 0.5451594  0.50678879 0.48569614 0.477896   0.47765487\n",
            " 0.48058867 0.48434678 0.4890255  0.4969331  0.51152641 0.53595716\n",
            " 0.5721187  0.61790282]\n",
            "19 day output [[0.6677336]]\n",
            "20 day input [0.8552897  0.84994698 0.8108601  0.74889588 0.67396104 0.60206747\n",
            " 0.5451594  0.50678879 0.48569614 0.477896   0.47765487 0.48058867\n",
            " 0.48434678 0.4890255  0.4969331  0.51152641 0.53595716 0.5721187\n",
            " 0.61790282 0.66773361]\n",
            "20 day output [[0.7131473]]\n",
            "21 day input [0.84994698 0.8108601  0.74889588 0.67396104 0.60206747 0.5451594\n",
            " 0.50678879 0.48569614 0.477896   0.47765487 0.48058867 0.48434678\n",
            " 0.4890255  0.4969331  0.51152641 0.53595716 0.5721187  0.61790282\n",
            " 0.66773361 0.71314728]\n",
            "21 day output [[0.7459955]]\n",
            "22 day input [0.8108601  0.74889588 0.67396104 0.60206747 0.5451594  0.50678879\n",
            " 0.48569614 0.477896   0.47765487 0.48058867 0.48434678 0.4890255\n",
            " 0.4969331  0.51152641 0.53595716 0.5721187  0.61790282 0.66773361\n",
            " 0.71314728 0.74599552]\n",
            "22 day output [[0.7600889]]\n",
            "23 day input [0.74889588 0.67396104 0.60206747 0.5451594  0.50678879 0.48569614\n",
            " 0.477896   0.47765487 0.48058867 0.48434678 0.4890255  0.4969331\n",
            " 0.51152641 0.53595716 0.5721187  0.61790282 0.66773361 0.71314728\n",
            " 0.74599552 0.76008892]\n",
            "23 day output [[0.75300175]]\n",
            "24 day input [0.67396104 0.60206747 0.5451594  0.50678879 0.48569614 0.477896\n",
            " 0.47765487 0.48058867 0.48434678 0.4890255  0.4969331  0.51152641\n",
            " 0.53595716 0.5721187  0.61790282 0.66773361 0.71314728 0.74599552\n",
            " 0.76008892 0.75300175]\n",
            "24 day output [[0.7270291]]\n",
            "25 day input [0.60206747 0.5451594  0.50678879 0.48569614 0.477896   0.47765487\n",
            " 0.48058867 0.48434678 0.4890255  0.4969331  0.51152641 0.53595716\n",
            " 0.5721187  0.61790282 0.66773361 0.71314728 0.74599552 0.76008892\n",
            " 0.75300175 0.72702909]\n",
            "25 day output [[0.6886202]]\n",
            "26 day input [0.5451594  0.50678879 0.48569614 0.477896   0.47765487 0.48058867\n",
            " 0.48434678 0.4890255  0.4969331  0.51152641 0.53595716 0.5721187\n",
            " 0.61790282 0.66773361 0.71314728 0.74599552 0.76008892 0.75300175\n",
            " 0.72702909 0.68862021]\n",
            "26 day output [[0.645856]]\n",
            "27 day input [0.50678879 0.48569614 0.477896   0.47765487 0.48058867 0.48434678\n",
            " 0.4890255  0.4969331  0.51152641 0.53595716 0.5721187  0.61790282\n",
            " 0.66773361 0.71314728 0.74599552 0.76008892 0.75300175 0.72702909\n",
            " 0.68862021 0.64585602]\n",
            "27 day output [[0.605878]]\n",
            "28 day input [0.48569614 0.477896   0.47765487 0.48058867 0.48434678 0.4890255\n",
            " 0.4969331  0.51152641 0.53595716 0.5721187  0.61790282 0.66773361\n",
            " 0.71314728 0.74599552 0.76008892 0.75300175 0.72702909 0.68862021\n",
            " 0.64585602 0.605878  ]\n",
            "28 day output [[0.5734123]]\n",
            "29 day input [0.477896   0.47765487 0.48058867 0.48434678 0.4890255  0.4969331\n",
            " 0.51152641 0.53595716 0.5721187  0.61790282 0.66773361 0.71314728\n",
            " 0.74599552 0.76008892 0.75300175 0.72702909 0.68862021 0.64585602\n",
            " 0.605878   0.5734123 ]\n",
            "29 day output [[0.5503609]]\n",
            "[[0.8552896976470947], [0.8499469757080078], [0.8108600974082947], [0.7488958835601807], [0.6739610433578491], [0.6020674705505371], [0.5451593995094299], [0.5067887902259827], [0.48569613695144653], [0.4778960049152374], [0.4776548743247986], [0.4805886745452881], [0.48434677720069885], [0.4890255033969879], [0.49693310260772705], [0.5115264058113098], [0.5359571576118469], [0.5721186995506287], [0.6179028153419495], [0.6677336096763611], [0.7131472826004028], [0.7459955215454102], [0.7600889205932617], [0.7530017495155334], [0.7270290851593018], [0.6886202096939087], [0.6458560228347778], [0.6058779954910278], [0.573412299156189], [0.550360918045044]]\n"
          ]
        }
      ],
      "source": [
        "# demonstrate prediction for next 10 days\n",
        "from numpy import array\n",
        "\n",
        "lst_output=[]\n",
        "n_steps=20\n",
        "i=0\n",
        "while(i<30):\n",
        "\n",
        "    if(len(temp_input)>20):\n",
        "        #print(temp_input)\n",
        "        x_input=np.array(temp_input[1:])\n",
        "        print(\"{} day input {}\".format(i,x_input))\n",
        "        x_input=x_input.reshape(1,-1)\n",
        "        x_input = x_input.reshape((1, n_steps, 1))\n",
        "        #print(x_input)\n",
        "        yhat = model.predict(x_input, verbose=0)\n",
        "        print(\"{} day output {}\".format(i,yhat))\n",
        "        temp_input.extend(yhat[0].tolist())\n",
        "        temp_input=temp_input[1:]\n",
        "        #print(temp_input)\n",
        "        lst_output.extend(yhat.tolist())\n",
        "        i=i+1\n",
        "    else:\n",
        "        x_input = x_input.reshape((1, n_steps,1))\n",
        "        yhat = model.predict(x_input, verbose=0)\n",
        "        print(yhat[0])\n",
        "        temp_input.extend(yhat[0].tolist())\n",
        "#         print(len(temp_input))\n",
        "        lst_output.extend(yhat.tolist())\n",
        "        i=i+1\n",
        "\n",
        "\n",
        "print(lst_output)"
      ]
    },
    {
      "cell_type": "code",
      "execution_count": null,
      "metadata": {
        "execution": {
          "iopub.execute_input": "2021-03-05T11:16:58.864554Z",
          "iopub.status.busy": "2021-03-05T11:16:58.863843Z",
          "iopub.status.idle": "2021-03-05T11:16:58.868224Z",
          "shell.execute_reply": "2021-03-05T11:16:58.867414Z"
        },
        "papermill": {
          "duration": 0.549164,
          "end_time": "2021-03-05T11:16:58.868447",
          "exception": false,
          "start_time": "2021-03-05T11:16:58.319283",
          "status": "completed"
        },
        "tags": [],
        "id": "hy2yIczjsOQM"
      },
      "outputs": [],
      "source": [
        "day_new = np.arange(1,363)\n",
        "day_pred = np.arange(363,393)"
      ]
    },
    {
      "cell_type": "code",
      "execution_count": null,
      "metadata": {
        "execution": {
          "iopub.execute_input": "2021-03-05T11:16:59.987687Z",
          "iopub.status.busy": "2021-03-05T11:16:59.979059Z",
          "iopub.status.idle": "2021-03-05T11:17:00.164382Z",
          "shell.execute_reply": "2021-03-05T11:17:00.163671Z"
        },
        "papermill": {
          "duration": 0.760981,
          "end_time": "2021-03-05T11:17:00.164542",
          "exception": false,
          "start_time": "2021-03-05T11:16:59.403561",
          "status": "completed"
        },
        "scrolled": true,
        "tags": [],
        "id": "6tYQ8dyrsOQM",
        "outputId": "66255627-4884-49e8-9a5d-e63f9356bbb0"
      },
      "outputs": [
        {
          "data": {
            "text/plain": [
              "[<matplotlib.lines.Line2D at 0x7f347026cdd0>]"
            ]
          },
          "execution_count": 49,
          "metadata": {},
          "output_type": "execute_result"
        },
        {
          "data": {
            "image/png": "[encoded data removed]",
            "text/plain": [
              "<Figure size 864x576 with 1 Axes>"
            ]
          },
          "metadata": {
            "needs_background": "light"
          },
          "output_type": "display_data"
        }
      ],
      "source": [
        "plt.figure(figsize=(12,8))\n",
        "plt.plot(day_new,data_scaled)\n",
        "plt.plot(day_pred,lst_output)"
      ]
    },
    {
      "cell_type": "code",
      "execution_count": null,
      "metadata": {
        "execution": {
          "iopub.execute_input": "2021-03-05T11:17:01.227498Z",
          "iopub.status.busy": "2021-03-05T11:17:01.226366Z",
          "iopub.status.idle": "2021-03-05T11:17:01.231676Z",
          "shell.execute_reply": "2021-03-05T11:17:01.231147Z"
        },
        "papermill": {
          "duration": 0.539545,
          "end_time": "2021-03-05T11:17:01.231831",
          "exception": false,
          "start_time": "2021-03-05T11:17:00.692286",
          "status": "completed"
        },
        "tags": [],
        "id": "59-afGXKsOQN",
        "outputId": "14a3dae2-5437-4ef2-d747-bd7298aa8f23"
      },
      "outputs": [
        {
          "data": {
            "text/plain": [
              "array([[0.83333333],\n",
              "       [0.75      ],\n",
              "       [0.58333333],\n",
              "       [0.58333333],\n",
              "       [0.54166667]])"
            ]
          },
          "execution_count": 50,
          "metadata": {},
          "output_type": "execute_result"
        }
      ],
      "source": [
        "data_scaled[:5]"
      ]
    },
    {
      "cell_type": "code",
      "execution_count": null,
      "metadata": {
        "execution": {
          "iopub.execute_input": "2021-03-05T11:17:02.346981Z",
          "iopub.status.busy": "2021-03-05T11:17:02.345403Z",
          "iopub.status.idle": "2021-03-05T11:17:02.520351Z",
          "shell.execute_reply": "2021-03-05T11:17:02.519755Z"
        },
        "papermill": {
          "duration": 0.765149,
          "end_time": "2021-03-05T11:17:02.520509",
          "exception": false,
          "start_time": "2021-03-05T11:17:01.755360",
          "status": "completed"
        },
        "tags": [],
        "id": "pvDQQF16sOQN",
        "outputId": "7b1eef3d-04f0-4b65-b525-2ea627bc16be"
      },
      "outputs": [
        {
          "data": {
            "text/plain": [
              "[<matplotlib.lines.Line2D at 0x7f347025b090>]"
            ]
          },
          "execution_count": 51,
          "metadata": {},
          "output_type": "execute_result"
        },
        {
          "data": {
            "image/png": "[encoded data removed]",
            "text/plain": [
              "<Figure size 864x576 with 1 Axes>"
            ]
          },
          "metadata": {
            "needs_background": "light"
          },
          "output_type": "display_data"
        }
      ],
      "source": [
        "df3 = data_scaled.tolist()\n",
        "df3.extend(lst_output)\n",
        "plt.figure(figsize=(12,8))\n",
        "plt.plot(df3)\n"
      ]
    },
    {
      "cell_type": "markdown",
      "metadata": {
        "papermill": {
          "duration": 0.595882,
          "end_time": "2021-03-05T11:17:03.677018",
          "exception": false,
          "start_time": "2021-03-05T11:17:03.081136",
          "status": "completed"
        },
        "tags": [],
        "id": "KExgERjqsOQO"
      },
      "source": [
        "## Thanks You!!!!"
      ]
    },
    {
      "cell_type": "code",
      "execution_count": null,
      "metadata": {
        "papermill": {
          "duration": 0.526153,
          "end_time": "2021-03-05T11:17:04.736317",
          "exception": false,
          "start_time": "2021-03-05T11:17:04.210164",
          "status": "completed"
        },
        "tags": [],
        "id": "Ckk1ih16sOQO"
      },
      "outputs": [],
      "source": []
    }
  ],
  "metadata": {
    "kernelspec": {
      "display_name": "Python 3",
      "language": "python",
      "name": "python3"
    },
    "language_info": {
      "codemirror_mode": {
        "name": "ipython",
        "version": 3
      },
      "file_extension": ".py",
      "mimetype": "text/x-python",
      "name": "python",
      "nbconvert_exporter": "python",
      "pygments_lexer": "ipython3",
      "version": "3.7.9"
    },
    "papermill": {
      "default_parameters": {},
      "duration": 138.472651,
      "end_time": "2021-03-05T11:17:06.782698",
      "environment_variables": {},
      "exception": null,
      "input_path": "__notebook__.ipynb",
      "output_path": "__notebook__.ipynb",
      "parameters": {},
      "start_time": "2021-03-05T11:14:48.310047",
      "version": "2.2.2"
    },
    "colab": {
      "provenance": []
    }
  },
  "nbformat": 4,
  "nbformat_minor": 0
}